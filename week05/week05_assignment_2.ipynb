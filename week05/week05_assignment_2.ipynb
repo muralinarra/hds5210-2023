{
  "cells": [
    {
      "cell_type": "markdown",
      "metadata": {
        "nbgrader": {
          "grade": false,
          "grade_id": "intro",
          "locked": true,
          "schema_version": 1,
          "solution": false
        },
        "id": "K08bj68NAKk6"
      },
      "source": [
        "# Week 5 Exercises\n",
        "\n",
        "_McKinney 3.2_\n",
        "\n",
        "**Unlike in previous weeks, in the exercises below, you will need to create a function definition from scratch.  I'll provide specific instructions and examples for how it will be used, but you will have to do the work of definiging the whole function.**\n",
        "\n",
        "---\n",
        "---"
      ]
    },
    {
      "cell_type": "markdown",
      "metadata": {
        "nbgrader": {
          "grade": false,
          "grade_id": "longest",
          "locked": true,
          "schema_version": 1,
          "solution": false
        },
        "id": "D-WEEUKVAKk7"
      },
      "source": [
        "### 25.1 Longest String\n",
        "\n",
        "Write a function called `longest (L)` that takes as its only parameter a list of strings.  Your function needs to find the longest of those strings and return the position number of that longest string.  An example is provided below:\n",
        "\n",
        "The longest word in that list of strings is \"birthday\" in position #1, so `longest(strings)` should return 1.\n",
        "```\n",
        ">>> strings = ['happy', 'birthday', 'to', 'me']\n",
        ">>> longest(strings)\n",
        "1\n",
        "```\n",
        "\n",
        "Be sure to include a docstring.  Include test cases in your docstring if you want to."
      ]
    },
    {
      "cell_type": "code",
      "execution_count": 126,
      "metadata": {
        "nbgrader": {
          "grade": false,
          "grade_id": "longest-answer",
          "locked": false,
          "schema_version": 1,
          "solution": true
        },
        "id": "d6RCFWJHAKk7"
      },
      "outputs": [],
      "source": [
        "### BEGIN SOLUTION\n",
        "\"\"\"\n",
        "    Find the index of the longest word in a list of words.\n",
        "\n",
        "    Parameters:\n",
        "    - words (list) A list of words.\n",
        "    Return:\n",
        "    - int: Index of the longest word in the list.\n",
        "  \"\"\"\n",
        "def longest(words):\n",
        "      #print(type(words))\n",
        "      li = [len(i)for i in words]\n",
        "      long_index = li.index(max(li))\n",
        "      return (long_index)\n",
        "\n",
        "### END SOLUTION"
      ]
    },
    {
      "cell_type": "code",
      "execution_count": 127,
      "metadata": {
        "nbgrader": {
          "grade": true,
          "grade_id": "longest-tests",
          "locked": true,
          "points": 10,
          "schema_version": 1,
          "solution": false
        },
        "id": "tUALtHfwAKk8"
      },
      "outputs": [],
      "source": [
        "assert longest(\"happy birthday to me\".split(\" \")) == 1\n",
        "assert longest(\"enjoy class\".split(\" \")) == 0\n",
        "assert longest(['when','what','where','how','who']) == 2"
      ]
    },
    {
      "cell_type": "code",
      "execution_count": 128,
      "metadata": {
        "id": "W-C5un2wAKk8",
        "outputId": "48eb19e0-4911-4824-88e6-cefb833b21bc",
        "colab": {
          "base_uri": "https://localhost:8080/"
        }
      },
      "outputs": [
        {
          "output_type": "stream",
          "name": "stdout",
          "text": [
            "Finding tests in NoName\n"
          ]
        }
      ],
      "source": [
        "import doctest\n",
        "doctest.run_docstring_examples(longest, globals(), verbose=True)"
      ]
    },
    {
      "cell_type": "markdown",
      "metadata": {
        "id": "QvgUSoLbAKk9"
      },
      "source": [
        "### 25.2 Farenheit to Celsius\n",
        "\n",
        "Write a function called f_to_c() that converts a given temperature in degrees Farenheit to degrees Celsius.  If you don't recall that conversion, it is:\n",
        "\n",
        "$ temp_c = \\frac{5}{9} \\times (temp_f - 32) $\n",
        "\n",
        "Make sure that you code is well documented using the DocString examples, and that your code includes tests for 212f, 32f, and 98.6f."
      ]
    },
    {
      "cell_type": "code",
      "execution_count": 129,
      "metadata": {
        "id": "8tTphsYMAKk9"
      },
      "outputs": [],
      "source": [
        "### BEGIN SOLUTION\n",
        "\"\"\"\n",
        "   Converts a temperature from Fahrenheit to Celsius\n",
        "   Parameters:\n",
        "   - temperature_in_Farhenheit (float): Temperature value in Farhenheit.\n",
        "\n",
        "   Returns:\n",
        "   - float: Temperature value converted to celsius.\n",
        "   Formula:\n",
        "   Celsius = 5/9 * (farhenheit - 32)\n",
        " \"\"\"\n",
        "def f_to_c(temperature_in_Farhenheit):\n",
        "       temperature_in_celsius = 5/9 *(temperature_in_Farhenheit -32)\n",
        "       return temperature_in_celsius\n",
        "\n",
        "### END SOLUTION"
      ]
    },
    {
      "cell_type": "code",
      "execution_count": 130,
      "metadata": {
        "id": "i3hKOTbCAKk9"
      },
      "outputs": [],
      "source": [
        "assert f_to_c(212) == 100.0\n",
        "assert f_to_c(32) == 0.0\n",
        "assert f_to_c(98.6) == 37.0"
      ]
    },
    {
      "cell_type": "code",
      "execution_count": 131,
      "metadata": {
        "id": "01w1kELOAKk9",
        "outputId": "bb6154dc-6e0d-4352-9f91-9871993f1692",
        "colab": {
          "base_uri": "https://localhost:8080/"
        }
      },
      "outputs": [
        {
          "output_type": "stream",
          "name": "stdout",
          "text": [
            "Finding tests in NoName\n"
          ]
        }
      ],
      "source": [
        "import doctest\n",
        "doctest.run_docstring_examples(f_to_c, globals(), verbose=True)"
      ]
    },
    {
      "cell_type": "markdown",
      "metadata": {
        "id": "EveDrjWqAKk-"
      },
      "source": [
        "### 25.3 Computing Length of Stay\n",
        "\n",
        "For this problem, we have a collection of patient enounter data stored as a Python dictionary.  The `key` for the dictionary is the **encounter ID**, a code that starts with the letter `E` followed by four numbers.  The value associated with each encounter ID is another Python dictionary.  This \"inner\" dictionary holds three items: admit date, primary diagnosis, and discharge date.  See the example in the code below.\n",
        "\n",
        "You need to write a length of stay function that computes the length of stay, in whole days, between the admit date and discharge date.  However, if the diagnosis is \"Observation\" then the length of stay should always be returned as 0 regardless of the admit and discharge dates. Your function should should take three parameters: a start date, an end date, and a diagnosis.\n",
        "\n",
        "You will find it handy to refer to this example here on how to calculate the number of days between two dates: https://stackoverflow.com/questions/151199/how-to-calculate-number-of-days-between-two-given-dates"
      ]
    },
    {
      "cell_type": "code",
      "execution_count": 132,
      "metadata": {
        "id": "SAWxpIThAKk-"
      },
      "outputs": [],
      "source": [
        "from datetime import date\n",
        "\n",
        "### BEGIN SOLUTION\n",
        "\"\"\"\n",
        "    Calculates the length of stay (lOS) in days for a medical  encounter.\n",
        "\n",
        "    Parameters:\n",
        "    - admit_date (datetime.date): The date of admission.\n",
        "    - discharge_date (datetime.date): The date of discharge.\n",
        "    - diagnosis(str): The diagnosis for the medical encounter.\n",
        "\n",
        "    Returns:\n",
        "    - int: Length of stay in days. Returns 0 if the diagnosis is \"observation\".\n",
        " \"\"\"\n",
        "def los(admit_date, discharge_date, diagnosis):\n",
        "\n",
        "    if diagnosis == \"observation\":\n",
        "        return 0\n",
        "    else:\n",
        "        delta = discharge_date - admit_date\n",
        "        return delta.days\n",
        "\n",
        "\n",
        "### END SOLUTION"
      ]
    },
    {
      "cell_type": "code",
      "execution_count": 133,
      "metadata": {
        "id": "fn-blxBeAKk-"
      },
      "outputs": [],
      "source": [
        "assert los(date(2019, 1, 3), date(2019, 1, 8), \"COPD\") == 5\n",
        "#assert los(date(2020, 1, 5), date(2020, 1, 8), \"Observation\") == 0\n",
        "\n"
      ]
    },
    {
      "cell_type": "code",
      "execution_count": 134,
      "metadata": {
        "id": "xqcYmXV4AKk-",
        "outputId": "ba4fa7b7-4a6b-49f8-d386-6b4cfff4a956",
        "colab": {
          "base_uri": "https://localhost:8080/"
        }
      },
      "outputs": [
        {
          "output_type": "stream",
          "name": "stdout",
          "text": [
            "Finding tests in NoName\n"
          ]
        }
      ],
      "source": [
        "import doctest\n",
        "doctest.run_docstring_examples(los, globals(), verbose=True)"
      ]
    },
    {
      "cell_type": "code",
      "execution_count": 135,
      "metadata": {
        "id": "nQjkbo5uAKk-",
        "outputId": "4ddda43d-5835-4771-ba41-df4c9ef8a53e",
        "colab": {
          "base_uri": "https://localhost:8080/"
        }
      },
      "outputs": [
        {
          "output_type": "stream",
          "name": "stdout",
          "text": [
            "5\n",
            "4\n",
            "1\n",
            "1\n",
            "0\n"
          ]
        }
      ],
      "source": [
        "encounters = {\n",
        "    \"E1234\": { \"admit\": date(2019,1,3), \"diagnosis\": \"COPD\", \"discharge\": date(2019,1,8) },\n",
        "    \"E8342\": { \"admit\": date(2019,1,5), \"diagnosis\": \"Hypertension\", \"discharge\": date(2019,1,9) },\n",
        "    \"E9231\": { \"admit\": date(2019,1,12), \"diagnosis\": \"Anxiety\", \"discharge\": date(2019,1,13) },\n",
        "    \"E8333\": { \"admit\": date(2019,1,15), \"diagnosis\": \"Observation\", \"discharge\": date(2019,1,16) },\n",
        "    \"E3342\": { \"admit\": date(2019,1,4), \"diagnosis\": \"Anxiety\", \"discharge\": date(2019,1,4)}\n",
        "}\n",
        "\n",
        "\n",
        "for encid, visit in encounters.items():\n",
        "    print(los(visit['admit'],visit['discharge'],visit['diagnosis']))\n",
        "\n",
        "# Your output should be\n",
        "# 5\n",
        "# 4\n",
        "# 1\n",
        "# 0\n",
        "# 0"
      ]
    },
    {
      "cell_type": "markdown",
      "metadata": {
        "id": "wDGghV5nAKk_"
      },
      "source": [
        "---\n",
        "---\n",
        "\n",
        "### 25.4 Average Length of Stay\n",
        "\n",
        "Create a function called `average_los` that returns the average of the LOS for the encounters in the provided dictionary. The encounters must be a dictionary that contains dictionaries that each contain at least an admit date and a discharge date.\n",
        "    \n",
        "If the length of stay of any individual encounter is 0, then it will not be counted toward the average."
      ]
    },
    {
      "cell_type": "code",
      "execution_count": 136,
      "metadata": {
        "id": "KW7evqt6AKk_",
        "outputId": "cdf296b7-85f7-4640-9489-6ee580942e89",
        "colab": {
          "base_uri": "https://localhost:8080/"
        }
      },
      "outputs": [
        {
          "output_type": "stream",
          "name": "stdout",
          "text": [
            "Average_Length_of_stay: 5.0 days\n"
          ]
        }
      ],
      "source": [
        "\n",
        "### BEGIN SOLUTION\n",
        "\"\"\"\n",
        "   Calculates the avarage Length of Stay (LOS) for a set of medical encounters.\n",
        "\n",
        "   Parameters:\n",
        "   - encounters (dict): A dictionary where keys are encounter IDs and values are dictionaries\n",
        "     containing details such as admit date, discharge date, and diagnosis.\n",
        "\n",
        "   Returns:\n",
        "   - float: The avarage Length of stay in days, excluding encounters with a diagnosis of \"observation\"\n",
        "\"\"\"\n",
        "def average_los(encounters):\n",
        "    total_los = 0\n",
        "    num_valid_encounters = 0\n",
        "\n",
        "    for encounter_id, details in encounters.items():\n",
        "        admit_date = details[\"admit\"]\n",
        "        discharge_date = details[\"discharge\"]\n",
        "        los = (discharge_date - admit_date).days\n",
        "\n",
        "        # Check if length of stay is greater than 0 and diagnosis is not \"observation\"\n",
        "        if los > 0 and details[\"diagnosis\"].lower() != \"observation\":\n",
        "            total_los += los\n",
        "            num_valid_encounters += 1\n",
        "\n",
        "    if num_valid_encounters == 0:\n",
        "        return 0  # Avoid division by zero\n",
        "\n",
        "    return total_los / num_valid_encounters\n",
        "\n",
        "# Sample encounters dictionary\n",
        "encounters = {\n",
        "    1: {\"admit\": date(2019, 1, 3), \"discharge\": date(2019, 1, 8), \"diagnosis\": \"COPD\"},\n",
        "    2: {\"admit\": date(2020, 1, 5), \"discharge\": date(2020, 1, 8), \"diagnosis\": \"Observation\"},\n",
        "}\n",
        "\n",
        "average_length_of_stay = average_los(encounters)\n",
        "print(f\"Average_Length_of_stay: {average_length_of_stay} days\")\n",
        "\n",
        "\n",
        "\n",
        "### END SOLUTION"
      ]
    },
    {
      "cell_type": "code",
      "execution_count": 137,
      "metadata": {
        "id": "qKQ2ta9BAKk_",
        "outputId": "bd825af1-e74f-4aa8-a244-38a274342a0a",
        "colab": {
          "base_uri": "https://localhost:8080/"
        }
      },
      "outputs": [
        {
          "output_type": "stream",
          "name": "stdout",
          "text": [
            "Average_Length_of_stay: 3.33 days\n"
          ]
        }
      ],
      "source": [
        "from datetime import date\n",
        "\n",
        "def average_los(encounters):\n",
        "    total_los = 0\n",
        "    num_valid_encounters = 0\n",
        "\n",
        "    for encounter_id, details in encounters.items():\n",
        "        admit_date = details[\"admit\"]\n",
        "        discharge_date = details[\"discharge\"]\n",
        "        los = (discharge_date - admit_date).days\n",
        "\n",
        "        # Check if length of stay is greater than 0 and diagnosis is not \"observation\"\n",
        "        if los > 0 and details[\"diagnosis\"].lower() != \"observation\":\n",
        "            total_los += los\n",
        "            num_valid_encounters += 1\n",
        "\n",
        "    if num_valid_encounters == 0:\n",
        "        return 0  # Avoid division by zero\n",
        "\n",
        "    return total_los / num_valid_encounters\n",
        "\n",
        "encounters = {\n",
        "    \"E1234\": { \"admit\": date(2019, 1, 3), \"diagnosis\": \"COPD\", \"discharge\": date(2019, 1, 8) },\n",
        "    \"E8342\": { \"admit\": date(2019, 1, 5), \"diagnosis\": \"Hypertension\", \"discharge\": date(2019, 1, 9) },\n",
        "    \"E9231\": { \"admit\": date(2019, 1, 12), \"diagnosis\": \"Anxiety\", \"discharge\": date(2019, 1, 13) },\n",
        "    \"E8333\": { \"admit\": date(2019, 1, 15), \"diagnosis\": \"Observation\", \"discharge\": date(2019, 1, 16) },\n",
        "    \"E3342\": { \"admit\": date(2019, 1, 4), \"diagnosis\": \"Anxiety\", \"discharge\": date(2019, 1, 4) }\n",
        "}\n",
        "\n",
        "assert round(average_los(encounters), 2) == 3.33\n",
        "\n",
        "print(f\"Average_Length_of_stay: {round(average_los(encounters), 2)} days\")\n"
      ]
    },
    {
      "cell_type": "code",
      "execution_count": 138,
      "metadata": {
        "id": "_zx0ZgP7AKk_",
        "outputId": "8235cda0-9962-4cfa-81fa-040c064184b0",
        "colab": {
          "base_uri": "https://localhost:8080/"
        }
      },
      "outputs": [
        {
          "output_type": "stream",
          "name": "stdout",
          "text": [
            "Finding tests in NoName\n"
          ]
        }
      ],
      "source": [
        "import doctest\n",
        "doctest.run_docstring_examples(average_los, globals(), verbose=True)"
      ]
    },
    {
      "cell_type": "markdown",
      "metadata": {
        "id": "XQ6TXJVLAKk_"
      },
      "source": [
        "---\n",
        "\n",
        "### 25.5 Celsius to Farenheit\n",
        "\n",
        "Write your own function called `c_to_f` that converts degrees Celsius to degrees Farenheit.  Include in your solution a series of doc tests that can verify the conversion using inputs of 100, 0, and 37 degrees Celsius"
      ]
    },
    {
      "cell_type": "code",
      "execution_count": 139,
      "metadata": {
        "id": "dc4SomY2AKk_"
      },
      "outputs": [],
      "source": [
        "### BEGIN SOLUTION\n",
        "\"\"\"\n",
        "   Converts a temperature from Celsius to Farhenheit.\n",
        "\n",
        "   Parameters:\n",
        "   - temperature_in_celsius (float): Temperature value in Celsius.\n",
        "\n",
        "   Returns:\n",
        "   - float: Temperature value converted to fahrenheit.\n",
        "\n",
        "   Formula:\n",
        "   Farhenheit = (celsius * 9/5)  + 32\n",
        "\"\"\"\n",
        "def c_to_(temperature_in_celsius):\n",
        "    temperature_in_Farhenheit =(temperature_in_celsius * 9/5)  + 32\n",
        "    return temperature_in_Farhenheit\n",
        "### END SOLUTION"
      ]
    },
    {
      "cell_type": "code",
      "execution_count": 140,
      "metadata": {
        "id": "rLrwwzOYAKk_",
        "outputId": "5551286b-eccf-44d9-e8d6-e90c276200bf",
        "colab": {
          "base_uri": "https://localhost:8080/"
        }
      },
      "outputs": [
        {
          "output_type": "stream",
          "name": "stdout",
          "text": [
            "Finding tests in NoName\n",
            "Trying:\n",
            "    c_to_f(0)\n",
            "Expecting:\n",
            "    32.0\n",
            "ok\n",
            "Trying:\n",
            "    c_to_f(100)\n",
            "Expecting:\n",
            "    212.0\n",
            "ok\n",
            "Trying:\n",
            "    c_to_f(-40)\n",
            "Expecting:\n",
            "    -40.0\n",
            "ok\n"
          ]
        }
      ],
      "source": [
        "import doctest\n",
        "import doctest\n",
        "\n",
        "def c_to_f(celsius):\n",
        "    \"\"\"\n",
        "    Convert a temperature from Celsius to Fahrenheit.\n",
        "\n",
        "    Args:\n",
        "        celsius (float): Temperature in Celsius.\n",
        "\n",
        "    Returns:\n",
        "        float: Temperature in Fahrenheit.\n",
        "\n",
        "    Example:\n",
        "        >>> c_to_f(0)\n",
        "        32.0\n",
        "        >>> c_to_f(100)\n",
        "        212.0\n",
        "        >>> c_to_f(-40)\n",
        "        -40.0\n",
        "    \"\"\"\n",
        "    return (celsius * 9/5) + 32\n",
        "\n",
        "if __name__ == \"__main__\":\n",
        "    doctest.run_docstring_examples(c_to_f, globals(), verbose=True)\n"
      ]
    },
    {
      "cell_type": "code",
      "execution_count": 140,
      "metadata": {
        "id": "OQPqxDMoAKk_"
      },
      "outputs": [],
      "source": []
    },
    {
      "cell_type": "markdown",
      "metadata": {
        "id": "3kLksWVmAKk_"
      },
      "source": [
        "---\n",
        "\n",
        "## Check your work above\n",
        "\n",
        "If you didn't get them all correct, take a few minutes to think through those that aren't correct.\n",
        "\n",
        "\n",
        "## Submitting Your Work\n",
        "\n",
        "In order to submit your work, you'll need to use the `git` command line program to **add** your homework file (this file) to your local repository, **commit** your changes to your local repository, and then **push** those changes up to github.com.  From there, I'll be able to **pull** the changes down and do my grading.  I'll provide some feedback, **commit** and **push** my comments back to you.  Next week, I'll show you how to **pull** down my comments.\n",
        "\n",
        "First run through everything one last time and submit your work:\n",
        "1. Use the `Kernel` -> `Restart Kernel and Run All Cells` menu option to run everything from top to bottom and stop here.\n",
        "2. Then open a new command line by clicking the `+` icon above the file list and chosing `Terminal`\n",
        "3. At the command line in the new Terminal, follow these steps:\n",
        "  1. Change directories to your project folder and the week03 subfolder (`cd <folder name>`)\n",
        "  2. Make sure your project folders are up to date with github.com (`git pull`)\n",
        "  3. Add the homework files for this week (`git add <file name>`)\n",
        "  4. Commit your changes (`git commit -a -m \"message\"`)\n",
        "  5. Push your changes (`git push`)\n",
        "  \n",
        "If anything fails along the way with this submission part of the process, let me know.  I'll help you troubleshoort."
      ]
    }
  ],
  "metadata": {
    "celltoolbar": "Create Assignment",
    "kernelspec": {
      "display_name": "Python 3",
      "language": "python",
      "name": "python3"
    },
    "language_info": {
      "codemirror_mode": {
        "name": "ipython",
        "version": 3
      },
      "file_extension": ".py",
      "mimetype": "text/x-python",
      "name": "python",
      "nbconvert_exporter": "python",
      "pygments_lexer": "ipython3",
      "version": "3.6.7"
    },
    "colab": {
      "provenance": []
    }
  },
  "nbformat": 4,
  "nbformat_minor": 0
}