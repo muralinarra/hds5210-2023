{
  "cells": [
    {
      "cell_type": "markdown",
      "metadata": {
        "id": "l-ELnxLDiBjo"
      },
      "source": [
        "# Week 7 Assignment\n",
        "\n",
        "We've been working with different types of data structures in Python (dictionary, list, etc), how those are represented in JSON documents, and how to write code to access specific data elements. In this week's assignment, you will need to create your own JSON document to store information about yourself and the grades you've received from week 1 to week 4 and the week 6 quiz.  That is, everything you should have received a grade for.  Then you'll need to show me you know how to navigate the JSON in that file.\n",
        "\n",
        "Different from what we've done in the past, you do not have to write any functions or include any docstrings.  Just create some JSON and write some code.\n",
        "\n",
        "---"
      ]
    },
    {
      "cell_type": "markdown",
      "metadata": {
        "id": "oXPCkf0piBjq"
      },
      "source": [
        "## 7.1 Create a JSON string\n",
        "\n",
        "Create a JSON string that contains your name, email, year you were born, all of the grades you've received back so far, and a comment about what you thought was most challenging on each of those assignments.  This can be any structure you choose, but make sure it uses a dictionary and a list, and has at least two levels of hierarchy.  That is, it can't just be one big long list."
      ]
    },
    {
      "cell_type": "markdown",
      "metadata": {
        "id": "1x4pAJ0jiBjq"
      },
      "source": [
        "First, explain how your data structure is going to look..."
      ]
    },
    {
      "cell_type": "markdown",
      "metadata": {
        "id": "scCJDYy8iBjq"
      },
      "source": [
        "* Put your explanation here in text..."
      ]
    },
    {
      "cell_type": "markdown",
      "metadata": {
        "id": "UiDxGAzHiBjq"
      },
      "source": [
        "Then put the actual JSON you've created inside the multiline string below..."
      ]
    },
    {
      "cell_type": "code",
      "execution_count": 27,
      "metadata": {
        "id": "nuYRqw97iBjq",
        "outputId": "def7659f-51d1-4bfb-f94b-610be61571f4",
        "colab": {
          "base_uri": "https://localhost:8080/",
          "height": 35
        }
      },
      "outputs": [
        {
          "output_type": "execute_result",
          "data": {
            "text/plain": [
              "'\\n'"
            ],
            "application/vnd.google.colaboratory.intrinsic+json": {
              "type": "string"
            }
          },
          "metadata": {},
          "execution_count": 27
        }
      ],
      "source": [
        "hds5210 = \"\"\"\n",
        "hds5210 = \"\"\"\n",
        "{\n",
        "    \"name\": \"Murali Manohar Narra\",\n",
        "    \"email\": \"mnarra1@slu.edu\",\n",
        "    \"birth_year\": 1999,\n",
        "    \"total_grades\": [\n",
        "        {\n",
        "            \"subject\": \"Programming for Health Data Scientists\",\n",
        "            \"grades_received\": [\n",
        "                {\n",
        "                    \"assignment\": \"Quiz\",\n",
        "                    \"grade\": \"B\",\n",
        "                    \"comment\": \"I found this quiz challenging, and tricky\"\n",
        "                },\n",
        "                {\n",
        "                    \"assignment\": \"Creating JSON Strings\",\n",
        "                    \"grade\": \"A\",\n",
        "                    \"comment\": \"Creating JSON strings proved to be a bit time consuming and understanding it was a bit difficult.\"\n",
        "                }\n",
        "            ]\n",
        "     }\n",
        "    ]\n",
        "}\n",
        "\n",
        "\"\"\"\n",
        "\"\"\""
      ]
    },
    {
      "cell_type": "markdown",
      "metadata": {
        "id": "9P9D-CrJiBjr"
      },
      "source": [
        "## 7.2 Do something with your JSON\n",
        "\n",
        "Now use Python code to do something with the Json above.  Turn it into English text, but make sure that you use at least one loop to access some dict or list content of your JSON.  Below, I've provided some basic code to read in the string above as JSON and return a Python object.  Your job is to work with that data structure and print out the important information like your name, email, and how you did on each assignment."
      ]
    },
    {
      "cell_type": "code",
      "execution_count": 28,
      "metadata": {
        "id": "T2pXroVSiBjr",
        "outputId": "5de42e26-ae67-4863-89c6-40a6e88e9008",
        "colab": {
          "base_uri": "https://localhost:8080/"
        }
      },
      "outputs": [
        {
          "output_type": "stream",
          "name": "stdout",
          "text": [
            "Hi, my name is Murali Manohar Narra\n",
            "My e-mail is murali.narra@slu.edu\n",
            "I was born in 1999\n",
            "My Grades are 10, 9, 7, 4, 6\n",
            "I found this python challenging and tricky\n"
          ]
        }
      ],
      "source": [
        "import json\n",
        "\n",
        "hds5210 = '{\"me\": {\"name\": \"Murali Manohar Narra\", \"E-Mail\": \"murali.narra@slu.edu\", \"Birth Year\": 1999, \"Grades\": [10, 9, 7, 4, 6], \"comment\": \"I found this python challenging and tricky\"}}'\n",
        "\n",
        "info = json.loads(hds5210)\n",
        "\n",
        "me = info[\"me\"][\"name\"]\n",
        "email = info[\"me\"][\"E-Mail\"]  # Use \"E-Mail\" with a capital \"E\"\n",
        "year = info[\"me\"][\"Birth Year\"]  # Use \"Birth Year\" with spaces\n",
        "grades_list = \", \".join(map(str, info[\"me\"][\"Grades\"]))  # Convert grades to strings and join them\n",
        "comm = info[\"me\"][\"comment\"]\n",
        "\n",
        "print(f\"Hi, my name is {me}\")\n",
        "print(f\"My e-mail is {email}\")\n",
        "print(f\"I was born in {year}\")\n",
        "print(f\"My Grades are {grades_list}\")\n",
        "print(f\"{comm}\")\n"
      ]
    },
    {
      "cell_type": "markdown",
      "metadata": {
        "id": "TDtIWYKuiBjr"
      },
      "source": [
        "## 7.3 Reflect\n",
        "\n",
        "Write a paragraph on any reflections you have. Was this hard? Easy?  What parts were most challenging or easiest? What did you like or dislike about the assignment?  Share whatever important thoughts you have abou this assignment."
      ]
    },
    {
      "cell_type": "markdown",
      "metadata": {
        "id": "eUi5cmIsiBjr"
      },
      "source": [
        "I gave the project some thinking and realized it's absolutely not that difficult.However, I come from a pharmacy background and have never utilized any code or learned any computer languages.I found it a little challenging to understand. For those learning about data serialization and using structured data in programming, it's a useful exercise.  \n"
      ]
    },
    {
      "cell_type": "markdown",
      "metadata": {
        "id": "ZvW3yceqiBjr"
      },
      "source": [
        "---\n",
        "\n",
        "# Example\n",
        "\n",
        "Below is an example of something similar, but this uses information my and my friend's kids instead of grades."
      ]
    },
    {
      "cell_type": "code",
      "execution_count": 29,
      "metadata": {
        "id": "bBTdEVfCiBjr",
        "outputId": "29400c6f-404b-4436-8799-ebc3e694235d",
        "colab": {
          "base_uri": "https://localhost:8080/"
        }
      },
      "outputs": [
        {
          "output_type": "stream",
          "name": "stdout",
          "text": [
            "Hi, my name is Paul. I've got 3 kids. Their names are Ellie, Ada, Teddy.\n",
            "My friend, Anny has 1 kids. That's fewer than me. Their names are 1\n"
          ]
        }
      ],
      "source": [
        "hds5210 = \"\"\"\n",
        "{\n",
        "    \"me\": {\n",
        "        \"name\": \"Paul\",\n",
        "        \"kids\": [\"Ellie\", \"Ada\", \"Teddy\"]\n",
        "    },\n",
        "    \"friend\": {\n",
        "        \"name\": \"Anny\",\n",
        "        \"kids\": [\"Abby\"]\n",
        "    }\n",
        "}\n",
        "\"\"\"\n",
        "\n",
        "import json\n",
        "\n",
        "info = json.loads(hds5210)\n",
        "\n",
        "me = info[\"me\"][\"name\"]\n",
        "my_kids_count = len(info[\"me\"][\"kids\"])\n",
        "kids_list = \", \".join(info[\"me\"][\"kids\"])\n",
        "friend = info[\"friend\"][\"name\"]\n",
        "friends_kid_count = len(info[\"friend\"][\"kids\"])\n",
        "friend_kids = \", \".join(info[\"friend\"][\"kids\"])\n",
        "compare = \"more\" if friends_kid_count > my_kids_count else \"fewer\"\n",
        "\n",
        "print(f\"Hi, my name is {me}. I've got {my_kids_count} kids. Their names are {kids_list}.\")\n",
        "print(f\"My friend, {friend} has {friends_kid_count} kids. That's {compare} than me. Their names are {friends_kid_count}\")"
      ]
    }
  ],
  "metadata": {
    "kernelspec": {
      "display_name": "Python 3",
      "language": "python",
      "name": "python3"
    },
    "language_info": {
      "codemirror_mode": {
        "name": "ipython",
        "version": 3
      },
      "file_extension": ".py",
      "mimetype": "text/x-python",
      "name": "python",
      "nbconvert_exporter": "python",
      "pygments_lexer": "ipython3",
      "version": "3.9.16"
    },
    "colab": {
      "provenance": []
    }
  },
  "nbformat": 4,
  "nbformat_minor": 0
}