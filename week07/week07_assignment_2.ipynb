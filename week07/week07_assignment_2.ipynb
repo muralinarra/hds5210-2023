{
  "cells": [
    {
      "cell_type": "code",
      "source": [],
      "metadata": {
        "id": "yc0ivHE3mxqT"
      },
      "execution_count": 3,
      "outputs": []
    },
    {
      "cell_type": "markdown",
      "metadata": {
        "id": "UZi9pcdJteh4"
      },
      "source": [
        "# Week 7 Assignment\n",
        "\n",
        "We've been working with different types of data structures in Python (dictionary, list, etc), how those are represented in JSON documents, and how to write code to access specific data elements. In this week's assignment, you will need to create your own JSON document to store information about yourself and the grades you've received from week 1 to week 4 and the week 6 quiz.  That is, everything you should have received a grade for.  Then you'll need to show me you know how to navigate the JSON in that file.\n",
        "\n",
        "Different from what we've done in the past, you do not have to write any functions or include any docstrings.  Just create some JSON and write some code.\n",
        "\n",
        "---"
      ]
    },
    {
      "cell_type": "markdown",
      "metadata": {
        "id": "4TkT5XaXteh6"
      },
      "source": [
        "## 7.1 Create a JSON string\n",
        "\n",
        "Create a JSON string that contains your name, email, year you were born, all of the grades you've received back so far, and a comment about what you thought was most challenging on each of those assignments.  This can be any structure you choose, but make sure it uses a dictionary and a list, and has at least two levels of hierarchy.  That is, it can't just be one big long list."
      ]
    },
    {
      "cell_type": "markdown",
      "metadata": {
        "id": "cB0VIXAmteh6"
      },
      "source": [
        "First, explain how your data structure is going to look..."
      ]
    },
    {
      "cell_type": "markdown",
      "metadata": {
        "id": "HaAddScIteh6"
      },
      "source": [
        "* Put your explanation here in text...\n"
      ]
    },
    {
      "cell_type": "markdown",
      "metadata": {
        "id": "QSKW-w8kteh6"
      },
      "source": [
        "Then put the actual JSON you've created inside the multiline string below..."
      ]
    },
    {
      "cell_type": "code",
      "execution_count": 4,
      "metadata": {
        "id": "I-bbIpxateh6"
      },
      "outputs": [],
      "source": [
        "hds5210 = \"\"\"\n",
        "  {\n",
        "    \"name\": \"Murali Manohar Narra\",\n",
        "    \"email\": \"mnarra1@slu.edu\",\n",
        "    \"birth_year\": 1999,\n",
        "    \"total_grades\": [\n",
        "        {\n",
        "            \"subject\": \"Programming for Health Data Scientists\",\n",
        "            \"grades_received\": [\n",
        "                {\n",
        "                    \"assignment\": \"Quiz\",\n",
        "                    \"grade\": \"B\",\n",
        "                    \"comment\": \"I found this quiz challenging, and tricky\"\n",
        "                },\n",
        "                {\n",
        "                    \"assignment\": \"Creating JSON Strings\",\n",
        "                    \"grade\": \"A\",\n",
        "                    \"comment\": \"Creating JSON strings proved to be a bit time consuming and understanding it was a bit difficult.\"\n",
        "                }\n",
        "            ]\n",
        "        }\n",
        "    ]\n",
        "}\n",
        "\n",
        "\"\"\""
      ]
    },
    {
      "cell_type": "markdown",
      "metadata": {
        "id": "CwiReF-Jteh7"
      },
      "source": [
        "## 7.2 Do something with your JSON\n",
        "\n",
        "Now use Python code to do something with the Json above.  Turn it into English text, but make sure that you use at least one loop to access some dict or list content of your JSON.  Below, I've provided some basic code to read in the string above as JSON and return a Python object.  Your job is to work with that data structure and print out the important information like your name, email, and how you did on each assignment."
      ]
    },
    {
      "cell_type": "code",
      "execution_count": 5,
      "metadata": {
        "id": "8nJM-bsMteh7",
        "outputId": "4052ef6e-9a15-47a7-b05c-09db6ec70c93",
        "colab": {
          "base_uri": "https://localhost:8080/"
        }
      },
      "outputs": [
        {
          "output_type": "stream",
          "name": "stdout",
          "text": [
            "Name: Murali Manohar Narra\n",
            "Email: mnarra1@slu.edu\n",
            "Subject: Programming for Health Data Scientists\n",
            "assignment: Quiz\n",
            "grade: B\n",
            "comment: I found this quiz challenging, and tricky\n",
            "assignment: Creating JSON Strings\n",
            "grade: A\n",
            "comment: Creating JSON strings proved to be a bit time consuming and understanding it was a bit difficult.\n"
          ]
        }
      ],
      "source": [
        "import json\n",
        "\n",
        "info = json.loads(hds5210)\n",
        "# Put your code to output a paragraph of English text here\n",
        "print(f'Name: {info[\"name\"]}')\n",
        "print(f'Email: {info[\"email\"]}')\n",
        "\n",
        "for subject in info[\"total_grades\"]:\n",
        "  print(f'Subject: {subject[\"subject\"]}')\n",
        "  for grade in subject[\"grades_received\"]:\n",
        "    print(f'assignment: {grade[\"assignment\"]}')\n",
        "    print(f'grade: {grade[\"grade\"]}')\n",
        "    print(f'comment: {grade[\"comment\"]}')\n"
      ]
    },
    {
      "cell_type": "markdown",
      "metadata": {
        "id": "KBoPA9mlteh7"
      },
      "source": [
        "## 7.3 Reflect\n",
        "\n",
        "Write a paragraph on any reflections you have. Was this hard? Easy?  What parts were most challenging or easiest? What did you like or dislike about the assignment?  Share whatever important thoughts you have abou this assignment."
      ]
    },
    {
      "cell_type": "markdown",
      "metadata": {
        "id": "AOeNjw7Gteh7"
      },
      "source": [
        "* Put your response here"
      ]
    },
    {
      "cell_type": "markdown",
      "metadata": {
        "id": "l2He9OKateh7"
      },
      "source": [
        "---\n",
        "\n",
        "# Example\n",
        "\n",
        "Below is an example of something similar, but this uses information my and my friend's kids instead of grades."
      ]
    },
    {
      "cell_type": "code",
      "execution_count": 6,
      "metadata": {
        "id": "TRQa68r9teh7",
        "outputId": "fa436c02-6d3e-41cd-c502-3106b0194bd8",
        "colab": {
          "base_uri": "https://localhost:8080/"
        }
      },
      "outputs": [
        {
          "output_type": "stream",
          "name": "stdout",
          "text": [
            "Hi, my name is Paul. I've got 3 kids. Their names are Ellie, Ada, Teddy.\n",
            "My friend, Anny has 1 kids. That's fewer than me. Their names are 1\n"
          ]
        }
      ],
      "source": [
        "hds5210 = \"\"\"\n",
        "{\n",
        "    \"me\": {\n",
        "        \"name\": \"Paul\",\n",
        "        \"kids\": [\"Ellie\", \"Ada\", \"Teddy\"]\n",
        "    },\n",
        "    \"friend\": {\n",
        "        \"name\": \"Anny\",\n",
        "        \"kids\": [\"Abby\"]\n",
        "    }\n",
        "}\n",
        "\"\"\"\n",
        "\n",
        "import json\n",
        "\n",
        "info = json.loads(hds5210)\n",
        "\n",
        "me = info[\"me\"][\"name\"]\n",
        "my_kids_count = len(info[\"me\"][\"kids\"])\n",
        "kids_list = \", \".join(info[\"me\"][\"kids\"])\n",
        "friend = info[\"friend\"][\"name\"]\n",
        "friends_kid_count = len(info[\"friend\"][\"kids\"])\n",
        "friend_kids = \", \".join(info[\"friend\"][\"kids\"])\n",
        "compare = \"more\" if friends_kid_count > my_kids_count else \"fewer\"\n",
        "\n",
        "print(f\"Hi, my name is {me}. I've got {my_kids_count} kids. Their names are {kids_list}.\")\n",
        "print(f\"My friend, {friend} has {friends_kid_count} kids. That's {compare} than me. Their names are {friends_kid_count}\")"
      ]
    }
  ],
  "metadata": {
    "kernelspec": {
      "display_name": "Python 3",
      "language": "python",
      "name": "python3"
    },
    "language_info": {
      "codemirror_mode": {
        "name": "ipython",
        "version": 3
      },
      "file_extension": ".py",
      "mimetype": "text/x-python",
      "name": "python",
      "nbconvert_exporter": "python",
      "pygments_lexer": "ipython3",
      "version": "3.9.16"
    },
    "colab": {
      "provenance": []
    }
  },
  "nbformat": 4,
  "nbformat_minor": 0
}