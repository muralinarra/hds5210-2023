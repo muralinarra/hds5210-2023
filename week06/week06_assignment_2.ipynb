{
  "cells": [
    {
      "cell_type": "markdown",
      "metadata": {
        "nbgrader": {
          "grade": false,
          "grade_id": "intro",
          "locked": true,
          "schema_version": 1,
          "solution": false
        },
        "id": "Kmu153cQa7u7"
      },
      "source": [
        "# Week 6 Exercises\n",
        "\n",
        "_McKinney 6.1_\n",
        "\n",
        "There are multiple ways to solve the problems below.  You can use any one of several approaches.  For example, you can read CSV files using Pandas or the csv module.  Your score won't depend on which modules you choose to use unless explicitly noted below, but your programming style will still matter."
      ]
    },
    {
      "cell_type": "markdown",
      "metadata": {
        "nbgrader": {
          "grade": false,
          "grade_id": "q1-description",
          "locked": true,
          "schema_version": 1,
          "solution": false
        },
        "id": "sGqQabJma7u_"
      },
      "source": [
        "### 30.1 List of Allergies\n",
        "\n",
        "In this GitHub repository, there is a file called `allergies.json` that contains a list of patient allergies.  You will need to download this [file from here](https://raw.githubusercontent.com/paulboal/hds5210-2023/main/week06/allergies.json) and then upload it into Google Colab to run these examples. It is taken from sample data provided by the EHR vendor, Epic, here: https://open.epic.com/Clinical/Allergy\n",
        "\n",
        "Take some time to look at the structure of the file.  You can open it directly in Jupyter by clicking the _Home_ icon, then the _from_instructor_ folder, and then the _data_ folder.\n",
        "\n",
        "Within the file, you'll see that it is a dictionary with many items in it.  One of those items is called `entry` and that item is a list of things.  You can tell that because the item name is immediately followed by an opening square bracket, signifying the start of a list.  It's line 11 of the file: `  \"entry\": [`\n",
        "\n",
        "Write a function named `allergy_count(json_file)` that takes as one parameter the name of the JSON file and returns an integer number of entries in that file.  Your function should open the file, read the json into a Python object, and return how many items there are in the list of `entry`s."
      ]
    },
    {
      "cell_type": "code",
      "execution_count": 239,
      "metadata": {
        "id": "X6y4yQraa7vA"
      },
      "outputs": [],
      "source": [
        "import json\n",
        "ALLERGIES_FILE=\"allergies.json\""
      ]
    },
    {
      "cell_type": "code",
      "execution_count": 240,
      "metadata": {
        "nbgrader": {
          "grade": false,
          "grade_id": "q1-answer",
          "locked": false,
          "schema_version": 1,
          "solution": true
        },
        "id": "50kBO7NAa7vB"
      },
      "outputs": [],
      "source": [
        "# Put your solution here\n",
        "def allergy_count(ALLERGIES_FILE):\n",
        "  with open(ALLERGIES_FILE) as file:\n",
        "    data = json.load(file)\n",
        "\n",
        "  return len(data['entry'])\n",
        ""
      ]
    },
    {
      "cell_type": "code",
      "execution_count": 241,
      "metadata": {
        "id": "4reUVu4Da7vB",
        "outputId": "926395e3-cf13-4c16-cc2d-37da60a0ec30",
        "colab": {
          "base_uri": "https://localhost:8080/"
        }
      },
      "outputs": [
        {
          "output_type": "execute_result",
          "data": {
            "text/plain": [
              "4"
            ]
          },
          "metadata": {},
          "execution_count": 241
        }
      ],
      "source": [
        "allergy_count(ALLERGIES_FILE)"
      ]
    },
    {
      "cell_type": "code",
      "execution_count": 242,
      "metadata": {
        "nbgrader": {
          "grade": true,
          "grade_id": "q1-tests",
          "locked": true,
          "points": 5,
          "schema_version": 1,
          "solution": false
        },
        "id": "pYhAeIIfa7vB"
      },
      "outputs": [],
      "source": [
        "assert type(allergy_count(ALLERGIES_FILE)) == int\n",
        "#assert allergy_count(ALLERGIEES_FILE) == 4"
      ]
    },
    {
      "cell_type": "markdown",
      "metadata": {
        "id": "FLWoOlt7a7vB"
      },
      "source": [
        "### 30.2 Number of Patients\n",
        "\n",
        "If you dig a little bit deaper into this list of allergies, you'll see that each result has a patient associated with it.  Create a funcation called `patient_count(json_file)` that will count how many unique patients we have in this JSON structure.  "
      ]
    },
    {
      "cell_type": "code",
      "execution_count": 243,
      "metadata": {
        "id": "Z1OYEi-Ma7vC"
      },
      "outputs": [],
      "source": [
        "# Put your solution here\n",
        "import json\n",
        "\n",
        "def patient_count(ALLERGIES_FILE):\n",
        "    try:\n",
        "        with open(ALLERGIES_FILE, 'r') as file:\n",
        "            data = json.load(file)\n",
        "            unique_patients = set()\n",
        "\n",
        "            if \"entry\" in data and isinstance(data[\"entry\"], list):\n",
        "                for entry in data[\"entry\"]:\n",
        "                    if \"resource\" in entry and \"patient\" in entry[\"resource\"] and \"display\" in entry[\"resource\"][\"patient\"]:\n",
        "                        patient_name = entry[\"resource\"][\"patient\"][\"display\"]\n",
        "                        unique_patients.add(patient_name)\n",
        "\n",
        "            return len(unique_patients)\n",
        "    except FileNotFoundError:\n",
        "        return 0\n",
        "ALLERGIES_FILE = 'allergies.json'\n"
      ]
    },
    {
      "cell_type": "code",
      "execution_count": 244,
      "metadata": {
        "id": "FuIo-Krua7vC",
        "outputId": "2abb1d56-69e0-4e55-9374-0596827d39c8",
        "colab": {
          "base_uri": "https://localhost:8080/"
        }
      },
      "outputs": [
        {
          "output_type": "execute_result",
          "data": {
            "text/plain": [
              "2"
            ]
          },
          "metadata": {},
          "execution_count": 244
        }
      ],
      "source": [
        "patient_count(ALLERGIES_FILE)"
      ]
    },
    {
      "cell_type": "code",
      "execution_count": 245,
      "metadata": {
        "id": "ycmUummia7vC"
      },
      "outputs": [],
      "source": [
        "assert type(patient_count(ALLERGIES_FILE)) == int\n",
        "#assert patient_count(ALLERGIES_FILE) == 2"
      ]
    },
    {
      "cell_type": "markdown",
      "metadata": {
        "id": "IR4ciQWPa7vD"
      },
      "source": [
        "### 30.3 How Many Allergies per Patient\n",
        "\n",
        "Although each entry is a separate allergy, several of them are for the same patient.  Write a function called `allergy_per_patient(json_file)` that counts up how many allergies each patient has.\n"
      ]
    },
    {
      "cell_type": "code",
      "execution_count": 246,
      "metadata": {
        "id": "KRO31p7ka7vD"
      },
      "outputs": [],
      "source": [
        "# Put your solution here\n",
        "import json\n",
        "\n",
        "def allergy_per_patient(ALLERGIES_FILE):\n",
        "    try:\n",
        "        with open(ALLERGIES_FILE, 'r') as file:\n",
        "            data = json.load(file)\n",
        "            allergy_counts = {}\n",
        "\n",
        "            if \"entry\" in data and isinstance(data[\"entry\"], list):\n",
        "                for entry in data[\"entry\"]:\n",
        "                    if \"resource\" in entry and \"patient\" in entry[\"resource\"]:\n",
        "                        patient_name = entry[\"resource\"][\"patient\"][\"display\"]\n",
        "\n",
        "                        if patient_name in allergy_counts:\n",
        "                            allergy_counts[patient_name] += 1\n",
        "                        else:\n",
        "                            allergy_counts[patient_name] = 1\n",
        "                print(allergy_counts)\n",
        "            return allergy_counts\n",
        "    except FileNotFoundError:\n",
        "        return {}\n",
        "ALLERGIES_FILE = 'allergies.json'\n"
      ]
    },
    {
      "cell_type": "code",
      "execution_count": 247,
      "metadata": {
        "id": "FgHWcASQa7vD",
        "outputId": "9ac0ddc8-1d08-4f37-fbd1-7df1b6c3497d",
        "colab": {
          "base_uri": "https://localhost:8080/"
        }
      },
      "outputs": [
        {
          "output_type": "stream",
          "name": "stdout",
          "text": [
            "{'Jason Argonaut': 3, 'Paul Boal': 1}\n"
          ]
        },
        {
          "output_type": "execute_result",
          "data": {
            "text/plain": [
              "{'Jason Argonaut': 3, 'Paul Boal': 1}"
            ]
          },
          "metadata": {},
          "execution_count": 247
        }
      ],
      "source": [
        "allergy_per_patient(ALLERGIES_FILE)"
      ]
    },
    {
      "cell_type": "code",
      "execution_count": 248,
      "metadata": {
        "id": "y-EAuWUVa7vD",
        "outputId": "087d7d64-d88b-4e12-dc40-1b54737d014d",
        "colab": {
          "base_uri": "https://localhost:8080/"
        }
      },
      "outputs": [
        {
          "output_type": "stream",
          "name": "stdout",
          "text": [
            "{'Jason Argonaut': 3, 'Paul Boal': 1}\n"
          ]
        }
      ],
      "source": [
        "assert type(allergy_per_patient(ALLERGIES_FILE)) == dict\n",
        "#assert allergy_per_patient(ALLERGIES_FILE) == {'Paul Boal': 1, 'Jason Argonaut': 3}"
      ]
    },
    {
      "cell_type": "markdown",
      "metadata": {
        "nbgrader": {
          "grade": false,
          "grade_id": "q2-question",
          "locked": true,
          "schema_version": 1,
          "solution": false
        },
        "id": "BpeJQgDka7vE"
      },
      "source": [
        "### 30.4 Patient Allergies and Reaction\n",
        "\n",
        "You'll see in the file that each of the items in the `entry` list have several other attributes including a patient name, substance text representation, and a reaction manifestation.  Create a function named `allergy_list(json_file)` that will create an output list that has patient name, allergy, and reaction for each `entry`.  The actual result you should get will be:\n",
        "\n",
        "```python\n",
        "[['Jason Argonaut', 'PENICILLIN G', 'Hives'],\n",
        " ['Paul Boal', 'PENICILLIN G', 'Bruising'],\n",
        " ['Jason Argonaut', 'SHELLFISH-DERIVED PRODUCTS', 'Itching'],\n",
        " ['Jason Argonaut', 'STRAWBERRY', 'Anaphylaxis']]\n",
        "```\n",
        "\n",
        "You'll notice that the reaction and the manifestation of that action are lists.  You only need to capture the first reaction and the first manifestation of the action.  That is, if there is a list of things, just output the first one."
      ]
    },
    {
      "cell_type": "code",
      "execution_count": 249,
      "metadata": {
        "nbgrader": {
          "grade": false,
          "grade_id": "q2-answer",
          "locked": false,
          "schema_version": 1,
          "solution": true
        },
        "id": "TBVkTp-ha7vE"
      },
      "outputs": [],
      "source": [
        "# Put your solution here\n",
        "\n"
      ]
    },
    {
      "cell_type": "code",
      "execution_count": 250,
      "metadata": {
        "id": "bTo53Zr-a7vE",
        "outputId": "2480d0a2-8d53-4975-a177-f0f65eb24484",
        "colab": {
          "base_uri": "https://localhost:8080/"
        }
      },
      "outputs": [
        {
          "output_type": "execute_result",
          "data": {
            "text/plain": [
              "[['Jason Argonaut', 'PENICILLIN G', 'Hives'],\n",
              " ['Jason Argonaut', 'SHELLFISH-DERIVED PRODUCTS', 'Itching'],\n",
              " ['Jason Argonaut', 'STRAWBERRY', 'Anaphylaxis'],\n",
              " ['Paul Boal', 'PENICILLIN G', 'Bruising']]"
            ]
          },
          "metadata": {},
          "execution_count": 250
        }
      ],
      "source": [
        "allergy_list(ALLERGIES_FILE)"
      ]
    },
    {
      "cell_type": "code",
      "execution_count": 251,
      "metadata": {
        "nbgrader": {
          "grade": true,
          "grade_id": "q2-tests",
          "locked": true,
          "points": 10,
          "schema_version": 1,
          "solution": false
        },
        "id": "Zsu7QcxRa7vE"
      },
      "outputs": [],
      "source": [
        "assert allergy_list(ALLERGIES_FILE) == [['Jason Argonaut', 'PENICILLIN G', 'Hives'],\n",
        " ['Jason Argonaut', 'SHELLFISH-DERIVED PRODUCTS', 'Itching'],\n",
        " ['Jason Argonaut', 'STRAWBERRY', 'Anaphylaxis'],\n",
        " ['Paul Boal', 'PENICILLIN G', 'Bruising']]\n"
      ]
    },
    {
      "cell_type": "markdown",
      "metadata": {
        "nbgrader": {
          "grade": false,
          "grade_id": "q3-question",
          "locked": true,
          "schema_version": 1,
          "solution": false
        },
        "id": "W3vMbcWJa7vE"
      },
      "source": [
        "### 30.5 Allergy Reaction\n",
        "\n",
        "Write a function called `allergy_reaction(json_file,patient,substance)` that takes three parameter and returns the reaction that will happen if the patient takes the specified substance.  You can solve this, in part, by calling your `allergy_list` function inside your new `allergy_reaction` function.\n",
        "\n",
        "If the substance is not found in the allergy list, the function should return None."
      ]
    },
    {
      "cell_type": "code",
      "execution_count": 252,
      "metadata": {
        "nbgrader": {
          "grade": false,
          "grade_id": "q3-answer",
          "locked": false,
          "schema_version": 1,
          "solution": true
        },
        "id": "Umu7ceqBa7vE"
      },
      "outputs": [],
      "source": [
        "# Put your solution here\n",
        "import json\n",
        "\n",
        "def allergy_list(json_file):\n",
        "    try:\n",
        "        with open(json_file, 'r') as file:\n",
        "            data = json.load(file)\n",
        "            output_list = []\n",
        "\n",
        "            if \"entry\" in data and isinstance(data[\"entry\"], list):\n",
        "                for entry in data[\"entry\"]:\n",
        "                    if \"resource\" in entry and \"patient\" in entry[\"resource\"]:\n",
        "                        patient_name = entry[\"resource\"][\"patient\"][\"display\"]\n",
        "\n",
        "                        # Extract allergy and reaction information\n",
        "                        if \"substance\" in entry[\"resource\"] and \"text\" in entry[\"resource\"][\"substance\"]:\n",
        "                            allergy = entry[\"resource\"][\"substance\"][\"text\"]\n",
        "                        else:\n",
        "                            allergy = None\n",
        "\n",
        "                        if \"reaction\" in entry[\"resource\"] and isinstance(entry[\"resource\"][\"reaction\"], list):\n",
        "                            first_reaction = entry[\"resource\"][\"reaction\"][0][\"manifestation\"][0][\"text\"] if len(entry[\"resource\"][\"reaction\"]) > 0 and \"manifestation\" in entry[\"resource\"][\"reaction\"][0] else None\n",
        "                        else:\n",
        "                            first_reaction = None\n",
        "\n",
        "                        # Add the extracted information to the output list\n",
        "                        output_list.append([patient_name, allergy, first_reaction])\n",
        "\n",
        "            return output_list\n",
        "    except FileNotFoundError:\n",
        "        return []  # Return an empty list if the file is not found or there is an error while reading\n",
        "\n",
        "# Define the path to your JSON file (e.g., ALLERGIES_FILE)\n",
        "ALLERGIES_FILE = 'allergies.json'"
      ]
    },
    {
      "cell_type": "code",
      "execution_count": 253,
      "metadata": {
        "id": "tXJLiv8Ra7vE",
        "outputId": "faed81b5-e151-4a4a-fd2d-d26674c7a03d",
        "colab": {
          "base_uri": "https://localhost:8080/",
          "height": 35
        }
      },
      "outputs": [
        {
          "output_type": "execute_result",
          "data": {
            "text/plain": [
              "'Hives'"
            ],
            "application/vnd.google.colaboratory.intrinsic+json": {
              "type": "string"
            }
          },
          "metadata": {},
          "execution_count": 253
        }
      ],
      "source": [
        "allergy_reaction(ALLERGIES_FILE, 'Jason Argonaut', 'PENICILLIN G')"
      ]
    },
    {
      "cell_type": "code",
      "execution_count": 254,
      "metadata": {
        "nbgrader": {
          "grade": true,
          "grade_id": "q3-tests",
          "locked": true,
          "points": 5,
          "schema_version": 1,
          "solution": false
        },
        "id": "3OesvNOSa7vE"
      },
      "outputs": [],
      "source": [
        "assert allergy_reaction(ALLERGIES_FILE, 'Jason Argonaut', 'PENICILLIN G') == 'Hives'\n",
        "assert allergy_reaction(ALLERGIES_FILE, 'Jason Argonaut', 'SHELLFISH-DERIVED PRODUCTS') == 'Itching'\n",
        "assert allergy_reaction(ALLERGIES_FILE, 'Jason Argonaut', 'STRAWBERRY') == 'Anaphylaxis'\n",
        "assert allergy_reaction(ALLERGIES_FILE, 'Jason Argonaut', 'PENICILLIN') == None\n",
        "assert allergy_reaction(ALLERGIES_FILE, 'Paul Boal', 'PENICILLIN G') == 'Bruising'"
      ]
    },
    {
      "cell_type": "markdown",
      "metadata": {
        "id": "LXQP9shUa7vE"
      },
      "source": [
        "---\n",
        "\n",
        "## Check your work above\n",
        "\n",
        "If you didn't get them all correct, take a few minutes to think through those that aren't correct.\n",
        "\n",
        "\n",
        "## Submitting Your Work\n",
        "\n",
        "In order to submit your work, you'll need to save this notebook file back to GitHub.  To do that in Google Colab:\n",
        "1. File -> Save a Copy in GitHub\n",
        "2. Make sure your HDS5210 repository is selected\n",
        "3. Make sure the file name includes the week number like this: `week06/week06_assignment_2.ipynb`\n",
        "4. Add a commit message that means something\n",
        "\n",
        "**Be sure week names are lowercase and use a two digit week number!!**\n",
        "\n",
        "**Be sure you use the same file name provided by the instructor!!**\n",
        "\n"
      ]
    }
  ],
  "metadata": {
    "celltoolbar": "Create Assignment",
    "kernelspec": {
      "display_name": "Python 3",
      "language": "python",
      "name": "python3"
    },
    "language_info": {
      "codemirror_mode": {
        "name": "ipython",
        "version": 3
      },
      "file_extension": ".py",
      "mimetype": "text/x-python",
      "name": "python",
      "nbconvert_exporter": "python",
      "pygments_lexer": "ipython3",
      "version": "3.9.16"
    },
    "colab": {
      "provenance": []
    }
  },
  "nbformat": 4,
  "nbformat_minor": 0
}