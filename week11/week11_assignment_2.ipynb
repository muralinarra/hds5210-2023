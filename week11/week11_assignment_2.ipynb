{
  "cells": [
    {
      "cell_type": "markdown",
      "metadata": {
        "id": "-dPFY1sIwFmw"
      },
      "source": [
        "# Week 11 Assignment\n",
        "\n",
        "\n",
        "Please do the programming exercise and verify that your code works using the tests, then think about your final project and fill out the questions in the second part.\n",
        "\n",
        "---\n",
        "---"
      ]
    },
    {
      "cell_type": "markdown",
      "metadata": {
        "id": "Moy12pVkwFmy"
      },
      "source": [
        "### 47.1: Filtering and summarizing data\n",
        "\n",
        "For this work, you'll find a data file in `https://hds5210-data.s3.amazonaws.com/complications_all.csv`.\n",
        "\n",
        "Read in the data file and create a variable called `mo_hospitals` that contains a data frame from the `complications_all.csv` file, filtered down to only contain those hospitals from the state of Missouri (MO).\n",
        "\n",
        "Then aggregate that data by hospital into a variable named `mo_summary`.  There are some key fields that we want to summarize:\n",
        "* We want to know the earliest date that each hospital was participating in any program\n",
        "* We want to know the latest date that each hospital stopped participating in any program\n",
        "* We want to know the total number of patients in the denominators of these programs\n",
        "\n",
        "Some things to note:\n",
        "* You will need to convert the `Start Date` and `End Date` to actual datetime fields\n",
        "* You will need to clean up and convert the `Denominator` field to just be numeric - the rule that you should use it to simply remove any records where the `Denominator` is `'Not Available'`\n",
        "\n",
        "\n",
        "The final result of this step should be a new data frame called `mo_summary` that contains one row for each hospital and contains the min start date, max end date, and total denominator.  Use the names `start_date`, `end_date`, and `number` for those columns in `mo_summary`.\n",
        "\n",
        "\n",
        "You do not need to create your code in the form of a function, just make sure your variable names match what I've described above so the tests work."
      ]
    },
    {
      "cell_type": "code",
      "execution_count": 39,
      "metadata": {
        "id": "_rx2zilOwFmy"
      },
      "outputs": [],
      "source": [
        "import pandas as pd\n",
        "# This is just to show you the name to use for the variable you need to create for this step to pass.\n",
        "all_hospitals = pd.read_csv('https://hds5210-data.s3.amazonaws.com/complications_all.csv')\n"
      ]
    },
    {
      "cell_type": "code",
      "execution_count": 40,
      "metadata": {
        "id": "9_XX8eg_wFmz"
      },
      "outputs": [],
      "source": [
        "# Do you work here and in as many cells as you need to create a variable called `mo_summary` that matches the requirements"
      ]
    },
    {
      "cell_type": "code",
      "source": [
        "import pandas as pd\n",
        "\n",
        "data = pd.read_csv(r\"complications_all.csv\")\n",
        "\n",
        "mo_hospitals = data[data['State'] == 'MO']\n",
        "mo_hospitals.columns = mo_hospitals.columns.str.strip()\n",
        "\n",
        "mo_summary = mo_hospitals.groupby('Facility Name').agg({\n",
        "    'Start Date': ['min'],\n",
        "    'End Date': ['max'],\n",
        "    'Denominator': ['sum']\n",
        "})\n",
        "\n",
        "mo_summary.columns = ['start_date', 'end_date', 'number']\n",
        "\n",
        "mo_summary['start_date'] = pd.to_datetime(mo_summary['start_date'], format='%Y-%m-%d', errors='coerce')\n",
        "mo_summary['end_date'] = pd.to_datetime(mo_summary['end_date'], format='%Y-%m-%d', errors='coerce')\n",
        "\n",
        "mo_summary['number'] = mo_summary['number'].astype(str).str.extract('(\\d+)').astype(float)\n",
        "\n",
        "mo_summary = mo_summary.dropna(subset=['number'])\n",
        "\n",
        "mo_summary['number'] = mo_summary['number'].astype(int)\n",
        "\n",
        "print(mo_summary)\n"
      ],
      "metadata": {
        "id": "yUqPiqgCwKey",
        "outputId": "5588a8c3-7a19-402b-afe8-ea9e045f365c",
        "colab": {
          "base_uri": "https://localhost:8080/"
        }
      },
      "execution_count": 41,
      "outputs": [
        {
          "output_type": "stream",
          "name": "stdout",
          "text": [
            "                                    start_date end_date               number\n",
            "Facility Name                                                               \n",
            "BARNES JEWISH HOSPITAL                     NaT      NaT -9223372036854775808\n",
            "BARNES-JEWISH ST PETERS HOSPITAL           NaT      NaT                24794\n",
            "BARNES-JEWISH WEST COUNTY HOSPITAL         NaT      NaT                  384\n",
            "BATES COUNTY MEMORIAL HOSPITAL             NaT      NaT              8746157\n",
            "BELTON REGIONAL MEDICAL CENTER             NaT      NaT                  198\n",
            "...                                        ...      ...                  ...\n",
            "TRUMAN MEDICAL CENTER LAKEWOOD             NaT      NaT                  118\n",
            "UNIVERSITY OF MISSOURI HEALTH CARE         NaT      NaT -9223372036854775808\n",
            "WASHINGTON COUNTY MEMORIAL HOSPITAL        NaT      NaT               824296\n",
            "WESTERN MISSOURI MEDICAL CENTER            NaT      NaT                  104\n",
            "WRIGHT MEMORIAL HOSPITAL                   NaT      NaT               397485\n",
            "\n",
            "[108 rows x 3 columns]\n"
          ]
        }
      ]
    },
    {
      "cell_type": "code",
      "execution_count": 42,
      "metadata": {
        "id": "41j4-pnBwFm0",
        "outputId": "ee7a3979-a157-475f-b920-e88e14c293e3",
        "colab": {
          "base_uri": "https://localhost:8080/"
        }
      },
      "outputs": [
        {
          "output_type": "stream",
          "name": "stdout",
          "text": [
            "RangeIndex(start=0, stop=91395, step=1)\n"
          ]
        }
      ],
      "source": [
        "import pandas as pd\n",
        "\n",
        "# Load the mo_summary DataFrame\n",
        "mo_summary = pd.read_csv('complications_all.csv')\n",
        "\n",
        "# Check the index of the mo_summary DataFrame\n",
        "print(mo_summary.index)\n",
        "\n",
        "# Check the value of the number column for the row with the index 63099\n",
        "row = mo_summary.get('63099')\n"
      ]
    },
    {
      "cell_type": "markdown",
      "metadata": {
        "id": "IM4Qt-ggwFm0"
      },
      "source": [
        "---\n",
        "\n",
        "### 47.2 Planning your final project\n",
        "\n",
        "You should be thinking about the things we've been learning and how you can apply them to your final project.  Use the rubric to help guid your thinking and then answer the questions below.  This is meant as a guide to help you think through what you will do."
      ]
    },
    {
      "cell_type": "markdown",
      "metadata": {
        "id": "IrgIEaBVwFm0"
      },
      "source": [
        "#### A) Data Access\n",
        "\n",
        "Your project should include data from at least three distinct types of sources.  For example: AWS S3, Relational Databases, Internet, Web Services, local files.  List what data sources you're planning to use."
      ]
    },
    {
      "cell_type": "markdown",
      "metadata": {
        "id": "KrueAKqAwFm0"
      },
      "source": [
        "**Healthdata.gov** https://healthdata.gov/State/Proportion-of-Adults-Who-Are-Current-Smokers-LGHC-/9tfm-gbny\n",
        "\n",
        "**Kaggle**:online Platform of data scientists and machine learning engineers\n",
        "https://www.kaggle.com/datasets/akshaydattatraykhare/diabetes-dataset\n",
        "\n"
      ]
    },
    {
      "cell_type": "markdown",
      "metadata": {
        "id": "u8cgYCuIwFm1"
      },
      "source": [
        "#### B. Data Formats\n",
        "\n",
        "Your project should include data that comes in different file formats.  For example: HL7, EDI, HTML, CSV, Excel, JSON, XML.  List what data formats you're planning to use."
      ]
    },
    {
      "cell_type": "markdown",
      "metadata": {
        "id": "ZbCKAtR3wFm1"
      },
      "source": [
        "**CSV**:CSV is a simple and widely used text-based format for representing tabular data. Each line in a CSV file represents a row.\n",
        "\n",
        "**Excel**:Excel is a spreadsheet program developed by Microsoft, and XLSX is the default file format for Excel files. It supports multiple sheets within a workbook and includes formatting, formulas, and various data types.\n",
        "\n",
        "**JSON**:JSON is a lightweight, text-based data interchange format. It uses key-value pairs and supports nested structures. JSON is easy for humans to read and write, and it's also easy for machines to parse and generate.\n",
        "\n"
      ]
    },
    {
      "cell_type": "markdown",
      "metadata": {
        "id": "VsXNUHBFwFm1"
      },
      "source": [
        "#### C. Objective\n",
        "\n",
        "What purpose would your project serve in a real work setting?  Take a couple of paragraphs to write down why this is an interesting product."
      ]
    },
    {
      "cell_type": "markdown",
      "metadata": {
        "id": "z3z9XqFCwFm1"
      },
      "source": [
        "In a real-world healthcare setting, the suggested project would be an extensive and useful tool since it would integrate data from a variety of sources, including disease databases, electronic health records, health insurance information, and patient health surveys. The capacity to create a comprehensive and unified view of patient health information is one of the main advantages. Healthcare professionals can obtain a more comprehensive picture of a patient's medical history, treatment options, and general state of health by combining data from multiple sources. This makes decisions about care more tailored and informed.\n",
        "\n",
        "Furthermore, the project has the potential to enhance the operational efficiency of healthcare institutions. For example, integrating data from health insurance records helps minimize errors and streamline the billing and claims processes, hence decreasing administrative responsibilities. The use of electronic health records can improve dialogue.enhancements to patient satisfaction levels overall, communication techniques, and service quality.\n",
        "\n",
        "The project has the potential to improve patient outcomes, streamline healthcare procedures, and support the development of a more effective and patient-centered healthcare system. It is consistent with the larger industry trend toward interoperability and data-driven decision-making, which will ultimately enhance patient care and delivery of healthcare.\n",
        "\n"
      ]
    },
    {
      "cell_type": "markdown",
      "metadata": {
        "id": "v4uNyPZBwFm1"
      },
      "source": [
        "\n",
        "\n",
        "---\n",
        "\n",
        "\n",
        "\n",
        "## Submit your work via GitHub as normal\n"
      ]
    }
  ],
  "metadata": {
    "kernelspec": {
      "display_name": "Python 3",
      "language": "python",
      "name": "python3"
    },
    "language_info": {
      "codemirror_mode": {
        "name": "ipython",
        "version": 3
      },
      "file_extension": ".py",
      "mimetype": "text/x-python",
      "name": "python",
      "nbconvert_exporter": "python",
      "pygments_lexer": "ipython3",
      "version": "3.9.16"
    },
    "colab": {
      "provenance": []
    }
  },
  "nbformat": 4,
  "nbformat_minor": 0
}