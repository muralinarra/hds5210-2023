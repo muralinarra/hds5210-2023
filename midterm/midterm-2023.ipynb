{
  "cells": [
    {
      "cell_type": "markdown",
      "metadata": {
        "id": "XHGcfQy3NEcN"
      },
      "source": [
        "# HDS5210-2022 Midterm\n",
        "\n",
        "In the midterm, you're going to use all the programming and data management skills you've developed so far to build a risk calculator that pretends to be integrated with a clinical registry.  You'll compute the PRIEST COVID-19 Clinical Severity Score for a series of patients and, based on their risk of an adverse outcome, query a REST web service to find a hospital to transfer them to. The end result of your work will be a list of instructions on where each patient should be discharged given their risk and various characteristics of the patient.\n",
        "\n",
        "Each step in the midterm will build up to form your complete solution.\n",
        "\n",
        "**Make sure you write good docstrings and doctests along the way!!**\n",
        "\n",
        "**The midterm is due at 11:59 PM CST on Monday, October 23rd.**\n",
        "\n",
        "---"
      ]
    },
    {
      "cell_type": "markdown",
      "metadata": {
        "id": "EQgSR6CPNEcP"
      },
      "source": [
        "## Step 1: Calculate PRIEST Clinical Severity Score\n",
        "\n",
        "This scoring algorithm can be found [here on the MDCalc website](https://www.mdcalc.com/priest-covid-19-clinical-severity-score#evidence).  \n",
        "\n",
        "1. You will need to write a function called **priest()** with the following input parameters.  \n",
        " * Sex (Gender assigned at birth)\n",
        " * Age in years\n",
        " * Respiratory rate in breaths per minute\n",
        " * Oxygen saturation as a percent between 0 and 1\n",
        " * Heart rate in beats per minute\n",
        " * Systolic BP in mmHg\n",
        " * Temperature in degrees C\n",
        " * Alertness as a string description\n",
        " * Inspired Oxygen as as string description\n",
        " * Performance Status as a string description\n",
        "2. The function will need to follow the algorithm provided on the MDCalc website to compute a risk percentage that should be returned as a numeric value between 0 and 1.\n",
        "3. Be sure to use docstring documentation and at least three built-in docstring test cases.\n",
        "4. Assume that the input values that are strings could be any combination of upper or lower case. For example: 'male', 'Male', 'MALE', 'MalE' should all be interpretted by your code as male.\n",
        "5. If any of the inputs are invalid (for example a sex value that is not recognizable as male or female) your code should return None.\n",
        "\n",
        "NOTES:\n",
        "1. In the final step there is a table that translates from **PRIEST Score** to **30-day probability of an outcome** but the last two probabilities are shown as ranges (59-88% and >99%).  Our code needs to output a single number, however. For our code, use the following rule:\n",
        " * If PRIEST score is between 17 and 25, the probability you return should be 0.59\n",
        " * If PRIEST score is greater than or equal to 26, the probability you return should be 0.99\n"
      ]
    },
    {
      "cell_type": "code",
      "execution_count": 56,
      "metadata": {
        "id": "Lfe1oTZ3NEcP"
      },
      "outputs": [],
      "source": [
        "def priest(sex, age, rspRt, oxSt, hrtRt, sybp, tmp, alrtns, inspOyg, sts):\n",
        "    \"\"\"\n",
        "    (String, integer, integer, integer, integer, integer, float, String, String, String) -> float)\n",
        "\n",
        "    Priest function is calculated using risk percentage as a predictor of\n",
        "    undesirable effects in adults who have presented to ED with presumed COVID-19.\n",
        "\n",
        "    Priest function expects sex, alrtns, inspOxy and sts in String and remaining all are in float.\n",
        "\n",
        "    >>> priest(\"male\",65,10,0.96,135,91,38.1,\"ALERT\",\"AIR\",\"unrestricted normal activity\")\n",
        "    0.29\n",
        "\n",
        "    >>> priest(\"Female\",18,10,0.96,90,230,38.1,\"ALERT\",\"AIR\",\"limited self-care\")\n",
        "    0.22\n",
        "\n",
        "    >>> priest(\"Female\",40,8,0.96,38,115,36.3,\"ALERT\",\"AIR\",\"limited strenuous activity, can do light activity\")\n",
        "    0.18\n",
        "\n",
        "    \"\"\"\n",
        "\n",
        "    sex = sex.lower()\n",
        "    alrtns = alrtns.lower()\n",
        "    inspOyg = inspOyg.lower()\n",
        "    sts = sts.lower()\n",
        "    count = 0\n",
        "\n",
        "    if sex==\"male\":\n",
        "        count += 1\n",
        "\n",
        "    if age >= 50 and age<=65:\n",
        "        count = count + 2\n",
        "    elif age >= 66 and age<=80:\n",
        "        count = count + 3\n",
        "    elif age > 80:\n",
        "        count = count + 4\n",
        "\n",
        "    if rspRt > 24:\n",
        "        count = count +  3\n",
        "    elif rspRt >= 21 and rspRt <= 24:\n",
        "        count = count +  2\n",
        "    elif rspRt >= 9 and rspRt <= 11:\n",
        "        count = count +  1\n",
        "    elif rspRt < 9:\n",
        "        count = count +  3\n",
        "\n",
        "    if oxSt < 0.92:\n",
        "        count = count +  3\n",
        "    elif oxSt >= 0.94 and oxSt <= 0.95:\n",
        "        count = count +  1\n",
        "    elif oxSt >= 0.92 and oxSt <= 0.93:\n",
        "        count = count +  2\n",
        "\n",
        "    if hrtRt > 130:\n",
        "        count = count +  3\n",
        "    elif hrtRt >= 111 and hrtRt <= 130:\n",
        "        count = count +  2\n",
        "    elif hrtRt >= 91 and hrtRt <= 110:\n",
        "        count = count +  1\n",
        "    elif hrtRt < 41:\n",
        "        count = count +  3\n",
        "    elif hrtRt >= 41 and hrtRt <= 50:\n",
        "        count = count +  1\n",
        "\n",
        "    if sybp > 219:\n",
        "        count = count +  3\n",
        "    elif sybp >= 101 and sybp <= 110:\n",
        "        count = count +  1\n",
        "    elif sybp >= 91 and sybp <= 100:\n",
        "        count = count +  2\n",
        "    elif sybp < 91:\n",
        "        count = count +  3\n",
        "\n",
        "    if tmp > 39.0:\n",
        "        count = count +  2\n",
        "    elif tmp >= 38.1 and tmp <= 39.0:\n",
        "        count = count +  1\n",
        "    if tmp < 35.1:\n",
        "        count = count +  3\n",
        "    elif tmp >= 35.1 and tmp <= 36.0:\n",
        "        count = count +  1\n",
        "\n",
        "    if alrtns == \"confused or not alert\":\n",
        "        count = count +  3\n",
        "\n",
        "    if inspOyg == \"supplemental oxygen\":\n",
        "        count = count +  2\n",
        "\n",
        "    if sts == \"limited self-care\":\n",
        "        count = count +  3\n",
        "    elif sts == \"limited activity, can self-care\":\n",
        "        count = count +  2\n",
        "    if sts == \"limited strenuous activity, can do light activity\":\n",
        "        count = count +  1\n",
        "    elif sts == \"bed/chair bound, no self-care\":\n",
        "        count = count +  4\n",
        "\n",
        "    riskPtg = [0.01, 0.01, 0.02, 0.02, 0.03, 0.09, 0.15, 0.18, 0.22, 0.26, 0.29, 0.34, 0.38, 0.46, 0.47, 0.49, 0.55, 0.59, 0.59, 0.59, 0.59, 0.59, 0.59, 0.59, 0.59, 0.59,0.99]\n",
        "    count = min(count, len(riskPtg) - 1)\n",
        "    return riskPtg[count]"
      ]
    },
    {
      "cell_type": "code",
      "execution_count": 57,
      "metadata": {
        "id": "eC49VTe7NEcQ",
        "outputId": "a22e2efb-7360-4e36-8375-d432f1e93e01",
        "colab": {
          "base_uri": "https://localhost:8080/"
        }
      },
      "outputs": [
        {
          "output_type": "stream",
          "name": "stdout",
          "text": [
            "Finding tests in NoName\n",
            "Trying:\n",
            "    priest(\"male\",65,10,0.96,135,91,38.1,\"ALERT\",\"AIR\",\"unrestricted normal activity\")\n",
            "Expecting:\n",
            "    0.29\n",
            "ok\n",
            "Trying:\n",
            "    priest(\"Female\",18,10,0.96,90,230,38.1,\"ALERT\",\"AIR\",\"limited self-care\")\n",
            "Expecting:\n",
            "    0.22\n",
            "ok\n",
            "Trying:\n",
            "    priest(\"Female\",40,8,0.96,38,115,36.3,\"ALERT\",\"AIR\",\"limited strenuous activity, can do light activity\")\n",
            "Expecting:\n",
            "    0.18\n",
            "ok\n"
          ]
        }
      ],
      "source": [
        "import doctest\n",
        "doctest.run_docstring_examples(priest, globals(),verbose=True)"
      ]
    },
    {
      "cell_type": "markdown",
      "metadata": {
        "id": "SYsLb0ShNEcQ"
      },
      "source": [
        "## Part 2: Find a hospital\n",
        "\n",
        "The next thing we have to do is figure out where to send this particular patient.  The guidelines on where to send a patient are based on their age (pediatric, adult, geriatric), sex, and risk percentage.  Luckily, you don't have to implement these rules. I already have. All you have to do is use a REST web service that I've created for you.\n",
        "\n",
        "You'll want to use Python to make a call to my REST web service similar to the example URL below. The first part of the URL will be the same for everyone and every request that you make. What you will need to modify for each of your requests is the information after the question mark.\n",
        "\n",
        "```\n",
        "https://oumdj6oci2.execute-api.us-east-1.amazonaws.com/prd/?age=40&sex=male&risk_pct=0.1\n",
        "```\n",
        "\n",
        "The example above asks my web service where a 40-year old male with a risk of 10% should go.  What the web service will return back is a JSON string containing the information you need.  That JSON will look like this:\n",
        "\n",
        "```json\n",
        "{\n",
        "  \"age\": \"40\",\n",
        "  \"sex\": \"male\",\n",
        "  \"risk\": \"0.1\",\n",
        "  \"hospital\": \"Southwest Hospital and Medical Center\"\n",
        "}\n",
        "```\n",
        "\n",
        "My function is not smart enough to understand `'MALE'` is the same as `'male'`.  You have to send it exactly `'male'` or `'female'`\n",
        "\n",
        "1. Your job is to write a function called **find_hospital()** that takes age, sex, and risk as parameters.\n",
        "2. Your function should call this REST web service using the `requests` module\n",
        "3. Then your function will need to interpret the JSON it gets and return just the name of the hospital\n",
        "4. If anything fails, return None\n",
        "5. Include a good docstring with at least three test cases.\n"
      ]
    },
    {
      "cell_type": "code",
      "execution_count": 58,
      "metadata": {
        "id": "QpqDQbxFNEcQ",
        "outputId": "424e1ec0-0674-4730-a805-1fcbb62ba2af",
        "colab": {
          "base_uri": "https://localhost:8080/"
        }
      },
      "outputs": [
        {
          "output_type": "stream",
          "name": "stdout",
          "text": [
            "Southwest Hospital and Medical Center\n"
          ]
        }
      ],
      "source": [
        "import json\n",
        "import requests\n",
        "import csv\n",
        "\n",
        "\n",
        "def find_hospital(age, sex, riskPerc):\n",
        "    \"\"\"\n",
        "    (integer, String, float) -> String\n",
        "\n",
        "    Find_hospital function Use the age, sex and risk percentage for finding a hospital. It\n",
        "    expects age, risk percentage in float and sex in String and produces hospital name in String.\n",
        "\n",
        "     find_hospital function find hospital on API by passing age, sex and rper as query parameters to the url\n",
        "     using requests module\n",
        "\n",
        "\n",
        "    >>> find_hospital(66, \"female\", 0.18)\n",
        "    'Wesley Woods Geriatric Hospital'\n",
        "\n",
        "    >>> find_hospital(18, \"Male\", 0.26)\n",
        "    'Southwest Hospital and Medical Center'\n",
        "\n",
        "    >>> find_hospital(40, \"FEMALE\", 0.09)\n",
        "    'Select Specialty Hospital - Northeast Atlanta'\n",
        "\n",
        "    \"\"\"\n",
        "    sex = sex.lower()\n",
        "    apiurl = \"https://oumdj6oci2.execute-api.us-east-1.amazonaws.com/prd/\"\n",
        "    apidata = requests.get(apiurl, params={\"age\": age, \"sex\": sex, \"risk_pct\": riskPerc})\n",
        "    return (apidata.json())['hospital']\n",
        "\n",
        "print(find_hospital(18, \"Male\", 0.26))"
      ]
    },
    {
      "cell_type": "code",
      "execution_count": 59,
      "metadata": {
        "id": "hGo-p_0XNEcR",
        "outputId": "79b9ac6b-db6d-4d75-916b-df2dad1a9c98",
        "colab": {
          "base_uri": "https://localhost:8080/"
        }
      },
      "outputs": [
        {
          "output_type": "stream",
          "name": "stdout",
          "text": [
            "Finding tests in NoName\n",
            "Trying:\n",
            "    find_hospital(66, \"female\", 0.18)\n",
            "Expecting:\n",
            "    'Wesley Woods Geriatric Hospital'\n",
            "ok\n",
            "Trying:\n",
            "    find_hospital(18, \"Male\", 0.26)\n",
            "Expecting:\n",
            "    'Southwest Hospital and Medical Center'\n",
            "ok\n",
            "Trying:\n",
            "    find_hospital(40, \"FEMALE\", 0.09)\n",
            "Expecting:\n",
            "    'Select Specialty Hospital - Northeast Atlanta'\n",
            "ok\n"
          ]
        }
      ],
      "source": [
        "import doctest\n",
        "doctest.run_docstring_examples(find_hospital, globals(),verbose=True)"
      ]
    },
    {
      "cell_type": "markdown",
      "metadata": {
        "id": "3dfZ-I9CNEcR"
      },
      "source": [
        "## Part 3: Get the address for that hospital from a JSON file\n",
        "\n",
        "Great! Now we have code to tell us which hospital to send someone to... but we don't know where that hospital is. The next function we need to create is one that looks up the address of that hospital.  All of these hospitals are in Atlanta, Georgia.  We're going to use the list from this webpage to lookup the address for that hospital, based on its name.  https://www.officialusa.com/stateguides/health/hospitals/georgia.html\n",
        "\n",
        "Because we skipped the section about Beautiful Soup and working with HTML, I've converted this information into a JSON document for you.  It's available for you here.  Your code should retrieve this file using the `requests` module.\n",
        "\n",
        "`https://drive.google.com/uc?export=download&id=1fIFD-NkcdiMu941N4GjyMDWxiKsFJBw-`\n",
        "\n",
        "1. You need to create a function called **get_address()** that takes hospital name as a parameter and searches the data from this JSON file for the hospital you want to find.\n",
        "2. Your code will have to load the JSON and return the correct hospital based on name.\n",
        "3. If the hospital name isn't found, the function should return None.\n",
        "4. Be sure to use good docstring documentation and includes at least 3 test cases."
      ]
    },
    {
      "cell_type": "code",
      "execution_count": 60,
      "metadata": {
        "id": "ScjWAs_FNEcS"
      },
      "outputs": [],
      "source": [
        "def get_address(hospital):\n",
        "\n",
        "    \"\"\"\n",
        "    (String) -> String\n",
        "\n",
        "    get_address function Find a hospital's address on the basis of its hospital name from this api data\n",
        "\n",
        "    get_address function determines the hospital's name as String and returns address in String\n",
        "\n",
        "\n",
        "    >>> get_address(\"Wesley Woods Geriatric Hospital\")\n",
        "    '1821 CLIFTON ROAD, NE'\n",
        "\n",
        "    >>> get_address(\"Emory Dunwoody Medical Center\")\n",
        "    '4500 NORTH SHALLOWFORD ROAD'\n",
        "\n",
        "    >>> get_address(\"Select Specialty Hospital - Northeast Atlanta\")\n",
        "    '1821 CLIFTON ROAD NE'\n",
        "\n",
        "    \"\"\"\n",
        "\n",
        "    apiurl = \"https://hds5210-data.s3.amazonaws.com/ga_hospitals.json\"\n",
        "    apidata = requests.get(apiurl)\n",
        "    hospital=hospital.upper()\n",
        "    if hospital in (apidata.json()):\n",
        "        return (apidata.json())[hospital][\"ADDRESS\"]\n",
        "    else:\n",
        "        return \" \""
      ]
    },
    {
      "cell_type": "markdown",
      "metadata": {
        "id": "L-37JiaoNEcS"
      },
      "source": [
        "## Part 4: Run the risk calculator on a population\n",
        "\n",
        "At the link below, there is a file called `people.psv`.  It is a pipe-delimited (`|`) file with columns that match the inputs for the PRIEST calculation above.  Your code should use the `requests` module to retrieve the file from this URL.\n",
        "\n",
        "`https://drive.google.com/uc?export=download&id=1fLxJN9YGUqmqExrilxSS8furwUER5HHh`\n",
        "\n",
        "\n",
        "In addition, the file has a patient identifier in the first column.\n",
        "\n",
        "1. Write a function called **process_people()** that takes the file location above as its only parameter. Your Python program should use your code above to process all of these rows, determine the hospital and address, and return a list whose items are a dictionary like this: `{ patient_number: [sex, age, breath, o2sat, heart, systolic, temp, alertness, inspired, status, hospital, address]}`.  Look at the file in Part 5 for what the output looks like.\n",
        "2. Be sure to use good docstrings, but you don't need any tests in your doc strings.  I've provided those for you withe file in Part 5.\n",
        "\n",
        "\n",
        "**NOTE** that when running your code for all the 100 records in the `people.psv` file, it may take a few minutes to complete.  You're making multiple calls to the internet for each record, so that can take a little while.\n"
      ]
    },
    {
      "cell_type": "code",
      "execution_count": 61,
      "metadata": {
        "id": "zh9gSYu4NEcS"
      },
      "outputs": [],
      "source": [
        "import json\n",
        "import csv\n",
        "import requests\n",
        "\n",
        "def process_people(apiurl):\n",
        "    \"\"\"\n",
        "    (String) -> Dictionary\n",
        "\n",
        "    process_people function is determining the risk percentage, hospital to be visited and address From the group of patients.\n",
        "\n",
        "    Process_people function accepts floc as a string and returns dictionary in json format. And also It gathers data in the\n",
        "    csv file from the API and computes risk percentage, hospital to visit and address of the hospital and append\n",
        "    each patient with information including all factors and risk percentage,\n",
        "    The hospital's name and address in json format for the dictionary.\n",
        "\n",
        "    \"\"\"\n",
        "\n",
        "    apidata = requests.get(apiurl)\n",
        "    content = apidata.text.split(\"\\n\")\n",
        "    fd = csv.reader(content, delimiter='|')\n",
        "    next(fd)\n",
        "    emptydict = {}\n",
        "    for i in fd:\n",
        "        if not any(field != '' for field in i):\n",
        "            break\n",
        "        patient, sex, age, rspRt, oxSt, hrtRt, sybp, tmp, alrtns, inspOyg, sts = i\n",
        "        riskperc = priest(sex, float(age), float(rspRt), float(oxSt), float(hrtRt), float(sybp), float(tmp), alrtns, inspOyg, sts)\n",
        "        hospital = find_hospital(int(age), sex, riskperc)\n",
        "        addressHosp = get_address(hospital)\n",
        "        data = [sex, float(age), float(rspRt), float(oxSt), float(hrtRt), float(sybp), float(tmp), alrtns, inspOyg, sts, riskperc, hospital, addressHosp]\n",
        "        emptydict[patient] = data\n",
        "\n",
        "    return emptydict"
      ]
    },
    {
      "cell_type": "markdown",
      "metadata": {
        "id": "ZFQS9_ntNEcS"
      },
      "source": [
        "## Part 5: Checking your final results\n",
        "\n",
        "The final step is to check your results.  You should be able to compare your results to the output in `people_results.json` at the link below.  Write some code to check your results.  This does not need to be a function.\n",
        "\n",
        "`https://drive.google.com/uc?export=download&id=1gx1SSC20mO5XL6uYD0mdcM_cL91fcIW5`\n"
      ]
    },
    {
      "cell_type": "code",
      "execution_count": 62,
      "metadata": {
        "id": "aeJYhF8fNEcS",
        "outputId": "09e5e705-f2ec-4641-c533-fd8c244920ba",
        "colab": {
          "base_uri": "https://localhost:8080/"
        }
      },
      "outputs": [
        {
          "output_type": "stream",
          "name": "stdout",
          "text": [
            "Actual API Data is same as Processed Data\n"
          ]
        }
      ],
      "source": [
        "\"\"\"\n",
        "\n",
        " It's comparing the actual API data to processed data.\n",
        " From the above methods, you will see whether either of them is equal or not.\n",
        "\n",
        "\"\"\"\n",
        "\n",
        "apiurl = \"https://hds5210-data.s3.amazonaws.com/people_results.json\"\n",
        "processedData = process_people(\"https://hds5210-data.s3.amazonaws.com/people.psv\")\n",
        "apidata = requests.get(apiurl)\n",
        "APIdata = apidata.json()\n",
        "X = json.loads(json.dumps(APIdata))\n",
        "Y= json.loads(json.dumps(processedData))\n",
        "if  X == Y:\n",
        "    print(\"Actual API Data is same as Processed Data\")\n",
        "else:\n",
        "    print(\"They are not Equal\")"
      ]
    },
    {
      "cell_type": "markdown",
      "metadata": {
        "id": "LbV75-a-NEcS"
      },
      "source": [
        "---\n",
        "\n",
        "## Check your work above\n",
        "\n",
        "If you didn't get them all correct, take a few minutes to think through those that aren't correct.\n",
        "\n",
        "\n",
        "## Submitting Your Work\n",
        "\n",
        "Submit your work as usual into a folder named `midterm`"
      ]
    },
    {
      "cell_type": "markdown",
      "metadata": {
        "id": "CTG_VBSkNEcS"
      },
      "source": [
        "---"
      ]
    }
  ],
  "metadata": {
    "kernelspec": {
      "display_name": "Python 3",
      "language": "python",
      "name": "python3"
    },
    "language_info": {
      "codemirror_mode": {
        "name": "ipython",
        "version": 3
      },
      "file_extension": ".py",
      "mimetype": "text/x-python",
      "name": "python",
      "nbconvert_exporter": "python",
      "pygments_lexer": "ipython3",
      "version": "3.9.16"
    },
    "colab": {
      "provenance": []
    }
  },
  "nbformat": 4,
  "nbformat_minor": 0
}