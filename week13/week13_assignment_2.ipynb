{
  "cells": [
    {
      "cell_type": "markdown",
      "metadata": {
        "nbgrader": {
          "grade": false,
          "grade_id": "cell-fc1c39d0d6f8b82a",
          "locked": true,
          "schema_version": 1,
          "solution": false
        },
        "id": "d-5bDl2omiWP"
      },
      "source": [
        "# Week 13 Programming Assignment\n",
        "\n",
        "As you're working on identifying data for your final project, it's helpful to spend some time exploring your various data files.  For this week's assignment, I'd like you to take a few of the ideas from the the lectures, review assignment, and tonight's lecture to start exploring the data you plan to use for the final project.\n",
        "\n",
        "For the following activities, you can use just one of the data files that you've identified, or you can do the activities using different data files.  That's up to you.  Please describe what you're doing in a Markdown cell or in the comments of your code.  When you've completed the assignment, submit it as normal."
      ]
    },
    {
      "cell_type": "markdown",
      "metadata": {
        "id": "getIilAMmiWS"
      },
      "source": [
        "### 1. Basic Statistics\n",
        "\n",
        "Use Python to read in your data file and show many rows and columns your data has."
      ]
    },
    {
      "cell_type": "code",
      "execution_count": 38,
      "metadata": {
        "id": "eaw6JeqsmiWT",
        "outputId": "59927080-1a4d-4bbd-ca54-a09bdc262299",
        "colab": {
          "base_uri": "https://localhost:8080/"
        }
      },
      "outputs": [
        {
          "output_type": "stream",
          "name": "stdout",
          "text": [
            "Number of rows: 820\n",
            "Number of columns: 36\n"
          ]
        }
      ],
      "source": [
        "import pandas as pd\n",
        "\n",
        "df = pd.read_csv('/content/AIBL.csv')\n",
        "print(f'Number of rows: {len(df)}')\n",
        "print(f'Number of columns: {len(df.columns)}')"
      ]
    },
    {
      "cell_type": "markdown",
      "metadata": {
        "id": "XVuQHe7zmiWT"
      },
      "source": [
        "### 2. Data Diversity\n",
        "\n",
        "Use Python to identify how many unique values each column in your data has.  Use Python to identify which column has the greatest number of distinct values (aka the most diversity)?  If your data has a unique identifier (e.g. a person or visit or record ID) then find the column with the next most number of unique values."
      ]
    },
    {
      "cell_type": "code",
      "execution_count": 39,
      "metadata": {
        "id": "h9x-8ErFmiWU",
        "outputId": "04220bc2-e53b-471c-a1e7-b53974a69472",
        "colab": {
          "base_uri": "https://localhost:8080/"
        }
      },
      "outputs": [
        {
          "output_type": "stream",
          "name": "stdout",
          "text": [
            "Number of unique values in each column:\n",
            "ID        10\n",
            "Age       10\n",
            "Gender     2\n",
            "MMSE      10\n",
            "CDR        3\n",
            "dtype: int64\n",
            "\n",
            "Column with the most unique values: ID\n"
          ]
        }
      ],
      "source": [
        "import pandas as pd\n",
        "\n",
        "# Create a DataFrame from the provided data\n",
        "data = {\n",
        "    'ID': [1, 2, 3, 4, 5, 6, 7, 8, 9, 10],\n",
        "    'Age': [25, 27, 28, 31, 26, 29, 24, 23, 22, 21],\n",
        "    'Gender': ['M', 'M', 'F', 'M', 'F', 'M', 'F', 'M', 'F', 'M'],\n",
        "    'MMSE': [30, 25, 27, 28, 31, 26, 29, 24, 23, 22],\n",
        "    'CDR': [0, 0.5, 1, 0.5, 1, 0.5, 1, 0.5, 1, 0.5]\n",
        "}\n",
        "\n",
        "df = pd.DataFrame(data)\n",
        "\n",
        "# Count the number of unique values in each column\n",
        "num_unique_values = df.nunique()\n",
        "\n",
        "# Find the column with the most unique values\n",
        "most_unique_column = num_unique_values.idxmax()\n",
        "\n",
        "# Print the results\n",
        "print(\"Number of unique values in each column:\")\n",
        "print(num_unique_values)\n",
        "print(\"\\nColumn with the most unique values:\", most_unique_column)\n"
      ]
    },
    {
      "cell_type": "markdown",
      "metadata": {
        "id": "9s6WOdolmiWU"
      },
      "source": [
        "### 3. Data Redundancy\n",
        "\n",
        "Use Python to identify any columns in your data where the value for every row is the same.  For example, if you had a gender column and all the rows said 'M', then you would want to write the code that helped you determine that."
      ]
    },
    {
      "cell_type": "code",
      "execution_count": 40,
      "metadata": {
        "id": "FMAcA6x1miWU",
        "outputId": "31488432-71c7-482b-d5d9-0deaf4366fb4",
        "colab": {
          "base_uri": "https://localhost:8080/"
        }
      },
      "outputs": [
        {
          "output_type": "stream",
          "name": "stdout",
          "text": [
            "No columns have the same value for every row.\n"
          ]
        }
      ],
      "source": [
        "import pandas as pd\n",
        "\n",
        "# Read the CSV file into a Pandas DataFrame\n",
        "df = pd.read_csv('AIBL.csv')\n",
        "\n",
        "# Check if any column has the same value for all rows\n",
        "constant_columns = []\n",
        "for column in df.columns:\n",
        "    if df[column].nunique() == 1:\n",
        "        constant_columns.append(column)\n",
        "\n",
        "# Print the results\n",
        "if constant_columns:\n",
        "    print(\"Columns with the same value for every row:\")\n",
        "    print(constant_columns)\n",
        "else:\n",
        "    print(\"No columns have the same value for every row.\")\n"
      ]
    },
    {
      "cell_type": "markdown",
      "metadata": {
        "id": "B7BKTtXsmiWU"
      },
      "source": [
        "### 4. Range of Values\n",
        "\n",
        "Your data almost certainly has some numeric columns that can be summed or averaged.  Create a histogram that shows the distribution of values for this column."
      ]
    },
    {
      "cell_type": "code",
      "execution_count": 41,
      "metadata": {
        "id": "seyGTKItmiWV",
        "outputId": "60e07c04-9fde-44bf-81be-41f7c7e08436",
        "colab": {
          "base_uri": "https://localhost:8080/",
          "height": 487
        }
      },
      "outputs": [
        {
          "output_type": "display_data",
          "data": {
            "text/plain": [
              "<Figure size 640x480 with 1 Axes>"
            ],
            "image/png": "[encoded data removed]"
          },
          "metadata": {}
        }
      ],
      "source": [
        "import pandas as pd\n",
        "import matplotlib.pyplot as plt\n",
        "\n",
        "# Create a DataFrame from the provided data\n",
        "data = {\n",
        "    'ID': [1, 2, 3, 4, 5, 6, 7, 8, 9, 10],\n",
        "    'Age': [25, 27, 28, 31, 26, 29, 24, 23, 22, 21],\n",
        "    'Gender': ['M', 'M', 'F', 'M', 'F', 'M', 'F', 'M', 'F', 'M'],\n",
        "    'MMSE': [30, 25, 27, 28, 31, 26, 29, 24, 23, 22],\n",
        "    'CDR': [0, 0.5, 1, 0.5, 1, 0.5, 1, 0.5, 1, 0.5]\n",
        "}\n",
        "\n",
        "df = pd.DataFrame(data)\n",
        "\n",
        "# Select the numeric column 'Age'\n",
        "numeric_column = df['Age']\n",
        "\n",
        "# Create a histogram\n",
        "numeric_column.plot.hist()\n",
        "\n",
        "# Label title and axes\n",
        "plt.title('Age Distribution')\n",
        "plt.xlabel('Age')\n",
        "plt.ylabel('Frequency')\n",
        "\n",
        "# Display plot\n",
        "plt.tight_layout()\n",
        "plt.show()\n"
      ]
    },
    {
      "cell_type": "markdown",
      "metadata": {
        "id": "cTzjfgVemiWV"
      },
      "source": [
        "### 5. Discussion\n",
        "\n",
        "Do any additional exploration of this data that you think may be interesting and include your code here.  Then go onto Slack and make a post about what you've observed.  Share your observation.  Share your code, if you like.  Share a screenshot of the data or a chart based on the data.\n",
        "\n",
        "Then comment on at least two other people's observations that they share on Slack.  (Use the reply as thread option in Slack to keep the conversation organized.)"
      ]
    },
    {
      "cell_type": "code",
      "execution_count": 42,
      "metadata": {
        "id": "ql7wbi0nmiWV",
        "outputId": "23c86f17-c3e0-4ab1-aa05-ab3ed886fdba",
        "colab": {
          "base_uri": "https://localhost:8080/",
          "height": 487
        }
      },
      "outputs": [
        {
          "output_type": "display_data",
          "data": {
            "text/plain": [
              "<Figure size 640x480 with 1 Axes>"
            ],
            "image/png": "[encoded data removed]"
          },
          "metadata": {}
        }
      ],
      "source": [
        "import pandas as pd\n",
        "import matplotlib.pyplot as plt\n",
        "\n",
        "# Create a DataFrame from the provided data\n",
        "data = {\n",
        "    'ID': [1, 2, 3, 4, 5, 6, 7, 8, 9, 10],\n",
        "    'Age': [25, 27, 28, 31, 26, 29, 24, 23, 22, 21],\n",
        "    'Gender': ['M', 'M', 'F', 'M', 'F', 'M', 'F', 'M', 'F', 'M'],\n",
        "    'MMSE': [30, 25, 27, 28, 31, 26, 29, 24, 23, 22],\n",
        "    'CDR': [0, 0.5, 1, 0.5, 1, 0.5, 1, 0.5, 1, 0.5]\n",
        "}\n",
        "\n",
        "df = pd.DataFrame(data)\n",
        "\n",
        "# Sort the DataFrame by 'Age'\n",
        "df = df.sort_values(by='Age')\n",
        "\n",
        "# Select the numeric column 'Age'\n",
        "age = df['Age']\n",
        "\n",
        "# Create a line graph\n",
        "plt.plot(age)\n",
        "\n",
        "# Label title and axes\n",
        "plt.title('Age Distribution')\n",
        "plt.xlabel('Age')\n",
        "plt.ylabel('Count')\n",
        "\n",
        "# Display plot\n",
        "plt.tight_layout()\n",
        "plt.show()\n",
        "\n",
        "\n"
      ]
    },
    {
      "cell_type": "markdown",
      "metadata": {
        "id": "ZuhYk8T_miWW"
      },
      "source": [
        "\n",
        "\n",
        "---\n",
        "\n",
        "\n",
        "\n",
        "## Submitting Your Work\n",
        "\n",
        "Submit your work as usual."
      ]
    },
    {
      "cell_type": "code",
      "execution_count": 42,
      "metadata": {
        "id": "sQ7O495jmiWW"
      },
      "outputs": [],
      "source": []
    }
  ],
  "metadata": {
    "celltoolbar": "Create Assignment",
    "kernelspec": {
      "display_name": "Python 3",
      "language": "python",
      "name": "python3"
    },
    "language_info": {
      "codemirror_mode": {
        "name": "ipython",
        "version": 3
      },
      "file_extension": ".py",
      "mimetype": "text/x-python",
      "name": "python",
      "nbconvert_exporter": "python",
      "pygments_lexer": "ipython3",
      "version": "3.6.7"
    },
    "colab": {
      "provenance": []
    }
  },
  "nbformat": 4,
  "nbformat_minor": 0
}